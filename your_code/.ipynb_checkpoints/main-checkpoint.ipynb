{
 "cells": [
  {
   "cell_type": "code",
   "execution_count": 63,
   "metadata": {
    "ExecuteTime": {
     "end_time": "2022-01-07T07:27:11.923591Z",
     "start_time": "2022-01-07T07:27:11.905443Z"
    }
   },
   "outputs": [],
   "source": [
    "import matplotlib.pyplot as plt\n",
    "from scipy import stats"
   ]
  },
  {
   "cell_type": "markdown",
   "metadata": {},
   "source": [
    "# Before your start:\n",
    "\n",
    "    Read the README.md file\n",
    "    Comment as much as you can and use the resources (README.md file)\n",
    "    Happy learning!"
   ]
  },
  {
   "cell_type": "markdown",
   "metadata": {},
   "source": [
    "In this exercise, we  will generate random numbers from the continuous disributions we learned in the lesson. There are two ways to generate random numbers:\n",
    "\n",
    "1. Using the numpy library \n",
    "1. using the Scipy library \n",
    "\n",
    "Use either or both of the lbraries in this exercise."
   ]
  },
  {
   "cell_type": "markdown",
   "metadata": {},
   "source": [
    "## Uniform Distribution\n",
    "\n",
    "To generate uniform random numbers between any two given values using scipy, we can either use the following code or the code that we have\n",
    "discussed in class:"
   ]
  },
  {
   "cell_type": "code",
   "execution_count": 1,
   "metadata": {
    "ExecuteTime": {
     "end_time": "2022-01-03T11:15:32.903377Z",
     "start_time": "2022-01-03T11:15:32.232923Z"
    }
   },
   "outputs": [
    {
     "name": "stdout",
     "output_type": "stream",
     "text": [
      "[2.45252447 2.68028474 2.81435784 2.30309885 2.55466375 2.19084051\n",
      " 2.33967364 2.78912945 2.4010824  2.19824318]\n"
     ]
    }
   ],
   "source": [
    "from scipy.stats import uniform\n",
    "x = uniform.rvs(size=10)\n",
    "a = 2\n",
    "b = 3\n",
    "randoms  = a + (b-a)*x\n",
    "print(randoms)"
   ]
  },
  {
   "cell_type": "markdown",
   "metadata": {},
   "source": [
    "**Your task:**\n",
    "\n",
    "1. Based on the code above, write a function that generates uniformly distributed random numbers. There are several requirements for your function:\n",
    "    * It should accept 3 parameters: \n",
    "        * `bottom` - the lower boundary of the generated numbers\n",
    "        * `ceiling` - the upper boundary of the generated numbers\n",
    "        * `count` - how many numbers to generate\n",
    "    * It should return an array of uniformly distributed random numbers\n",
    "\n",
    "1. Call your function with 2 sets of params below:\n",
    "    * bottom=10, ceiling=15, count=100\n",
    "    * bottom=10, ceiling=60, count=1,000\n",
    "\n",
    "1. Plot the uniform distributions generated above using histograms, where x axis is the value and y axis is the count. Let the histogram's number of bins be 10."
   ]
  },
  {
   "cell_type": "code",
   "execution_count": 2,
   "metadata": {
    "ExecuteTime": {
     "end_time": "2022-01-03T11:17:29.367823Z",
     "start_time": "2022-01-03T11:17:29.359814Z"
    }
   },
   "outputs": [],
   "source": [
    "#funcion\n",
    "def uni_random_numbers(bo,ce,co):\n",
    "    x = uniform.rvs(size=co)\n",
    "    a = bo\n",
    "    b = ce\n",
    "    randoms  = a + (b-a)*x\n",
    "    return(randoms)"
   ]
  },
  {
   "cell_type": "code",
   "execution_count": 10,
   "metadata": {
    "ExecuteTime": {
     "end_time": "2022-01-03T11:19:31.540704Z",
     "start_time": "2022-01-03T11:19:31.532700Z"
    }
   },
   "outputs": [],
   "source": [
    "f1=uni_random_numbers(10,15,100)\n",
    "f2=uni_random_numbers(10,60,1000)"
   ]
  },
  {
   "cell_type": "markdown",
   "metadata": {},
   "source": [
    "How are the two distributions different?"
   ]
  },
  {
   "cell_type": "code",
   "execution_count": 13,
   "metadata": {
    "ExecuteTime": {
     "end_time": "2022-01-03T11:20:11.984698Z",
     "start_time": "2022-01-03T11:20:11.877544Z"
    },
    "scrolled": true
   },
   "outputs": [
    {
     "data": {
      "text/plain": [
       "(array([10., 11., 10.,  8., 10., 11.,  7., 11., 10., 12.]),\n",
       " array([10.07401699, 10.55923692, 11.04445686, 11.5296768 , 12.01489674,\n",
       "        12.50011668, 12.98533661, 13.47055655, 13.95577649, 14.44099643,\n",
       "        14.92621637]),\n",
       " <BarContainer object of 10 artists>)"
      ]
     },
     "execution_count": 13,
     "metadata": {},
     "output_type": "execute_result"
    },
    {
     "data": {
      "image/png": "[encoded data removed]",
      "text/plain": [
       "<Figure size 432x288 with 1 Axes>"
      ]
     },
     "metadata": {
      "needs_background": "light"
     },
     "output_type": "display_data"
    }
   ],
   "source": [
    "plt.hist(f1,bins=10)"
   ]
  },
  {
   "cell_type": "code",
   "execution_count": 14,
   "metadata": {
    "ExecuteTime": {
     "end_time": "2022-01-03T11:20:16.808142Z",
     "start_time": "2022-01-03T11:20:16.712082Z"
    }
   },
   "outputs": [
    {
     "data": {
      "text/plain": [
       "(array([112.,  92.,  90., 100.,  99.,  96., 101.,  87., 103., 120.]),\n",
       " array([10.1195523 , 15.1019438 , 20.0843353 , 25.0667268 , 30.0491183 ,\n",
       "        35.03150981, 40.01390131, 44.99629281, 49.97868431, 54.96107581,\n",
       "        59.94346732]),\n",
       " <BarContainer object of 10 artists>)"
      ]
     },
     "execution_count": 14,
     "metadata": {},
     "output_type": "execute_result"
    },
    {
     "data": {
      "image/png": "[encoded data removed]",
      "text/plain": [
       "<Figure size 432x288 with 1 Axes>"
      ]
     },
     "metadata": {
      "needs_background": "light"
     },
     "output_type": "display_data"
    }
   ],
   "source": [
    "plt.hist(f2,bins=10)"
   ]
  },
  {
   "cell_type": "code",
   "execution_count": 3,
   "metadata": {
    "ExecuteTime": {
     "end_time": "2019-08-02T06:07:54.812745Z",
     "start_time": "2019-08-02T06:07:54.810660Z"
    }
   },
   "outputs": [],
   "source": [
    "# X-axis depending on ceiling, number of obs in each bin depending on n"
   ]
  },
  {
   "cell_type": "markdown",
   "metadata": {},
   "source": [
    "## Normal Distribution\n",
    "\n",
    "1. In the same way in the Uniform Distribution challenge, write a function that generates normally distributed random numbers.\n",
    "1. Generate 1,000 normally distributed numbers with the average of 10 and standard deviation of 1\n",
    "1. Generate 1,000 normally distributed numbers with the average of 10 and standard deviation of 50\n",
    "2. Plot the distributions of the data generated."
   ]
  },
  {
   "cell_type": "code",
   "execution_count": 20,
   "metadata": {
    "ExecuteTime": {
     "end_time": "2022-01-03T11:29:20.418739Z",
     "start_time": "2022-01-03T11:29:20.410854Z"
    }
   },
   "outputs": [],
   "source": [
    "from scipy.stats import norm"
   ]
  },
  {
   "cell_type": "code",
   "execution_count": null,
   "metadata": {},
   "outputs": [],
   "source": [
    "#norm(media, std)"
   ]
  },
  {
   "cell_type": "code",
   "execution_count": 26,
   "metadata": {
    "ExecuteTime": {
     "end_time": "2022-01-03T11:32:50.203338Z",
     "start_time": "2022-01-03T11:32:50.195292Z"
    }
   },
   "outputs": [],
   "source": [
    "def norm_random(media,std,count):\n",
    "    return(norm(media,std).rvs(count))"
   ]
  },
  {
   "cell_type": "code",
   "execution_count": 30,
   "metadata": {
    "ExecuteTime": {
     "end_time": "2022-01-03T11:33:35.705826Z",
     "start_time": "2022-01-03T11:33:35.697818Z"
    }
   },
   "outputs": [],
   "source": [
    "f3=norm_random(10,1,1000)\n",
    "f4=norm_random(10,50,1000)"
   ]
  },
  {
   "cell_type": "code",
   "execution_count": 31,
   "metadata": {
    "ExecuteTime": {
     "end_time": "2022-01-03T11:33:47.193511Z",
     "start_time": "2022-01-03T11:33:47.083106Z"
    },
    "scrolled": true
   },
   "outputs": [
    {
     "data": {
      "text/plain": [
       "(array([  2.,  20.,  61., 145., 264., 249., 183.,  59.,  15.,   2.]),\n",
       " array([ 6.35303359,  7.07803257,  7.80303155,  8.52803053,  9.25302951,\n",
       "         9.97802848, 10.70302746, 11.42802644, 12.15302542, 12.8780244 ,\n",
       "        13.60302338]),\n",
       " <BarContainer object of 10 artists>)"
      ]
     },
     "execution_count": 31,
     "metadata": {},
     "output_type": "execute_result"
    },
    {
     "data": {
      "image/png": "[encoded data removed]",
      "text/plain": [
       "<Figure size 432x288 with 1 Axes>"
      ]
     },
     "metadata": {
      "needs_background": "light"
     },
     "output_type": "display_data"
    }
   ],
   "source": [
    "plt.hist(f3)"
   ]
  },
  {
   "cell_type": "code",
   "execution_count": 32,
   "metadata": {
    "ExecuteTime": {
     "end_time": "2022-01-03T11:33:54.279738Z",
     "start_time": "2022-01-03T11:33:54.165204Z"
    }
   },
   "outputs": [
    {
     "data": {
      "text/plain": [
       "(array([  8.,  27.,  90., 215., 266., 231., 116.,  43.,   2.,   2.]),\n",
       " array([-156.03550479, -120.29370527,  -84.55190574,  -48.81010621,\n",
       "         -13.06830669,   22.67349284,   58.41529237,   94.1570919 ,\n",
       "         129.89889142,  165.64069095,  201.38249048]),\n",
       " <BarContainer object of 10 artists>)"
      ]
     },
     "execution_count": 32,
     "metadata": {},
     "output_type": "execute_result"
    },
    {
     "data": {
      "image/png": "[encoded data removed]",
      "text/plain": [
       "<Figure size 432x288 with 1 Axes>"
      ]
     },
     "metadata": {
      "needs_background": "light"
     },
     "output_type": "display_data"
    }
   ],
   "source": [
    "plt.hist(f4)"
   ]
  },
  {
   "cell_type": "markdown",
   "metadata": {},
   "source": [
    "How are the two distributions different?"
   ]
  },
  {
   "cell_type": "code",
   "execution_count": 4,
   "metadata": {
    "ExecuteTime": {
     "end_time": "2019-08-02T06:07:54.816439Z",
     "start_time": "2019-08-02T06:07:54.814409Z"
    }
   },
   "outputs": [],
   "source": [
    "# different distrubiton around the mean (x-axis)"
   ]
  },
  {
   "cell_type": "markdown",
   "metadata": {},
   "source": [
    "## Normal Distribution of Real Data\n",
    "\n",
    "In this challenge we are going to take a look the real data. We will use vehicles.csv file for this exercise"
   ]
  },
  {
   "cell_type": "code",
   "execution_count": 41,
   "metadata": {
    "ExecuteTime": {
     "end_time": "2022-01-03T11:36:55.125543Z",
     "start_time": "2022-01-03T11:36:55.117498Z"
    }
   },
   "outputs": [],
   "source": [
    "import pandas as pd\n",
    "import os"
   ]
  },
  {
   "cell_type": "markdown",
   "metadata": {},
   "source": [
    "First import vehicles.csv.\n",
    "Then plot the histograms for the following variables:\n",
    "\n",
    "1. Fuel Barrels/Year"
   ]
  },
  {
   "cell_type": "code",
   "execution_count": 55,
   "metadata": {
    "ExecuteTime": {
     "end_time": "2022-01-03T11:38:45.859418Z",
     "start_time": "2022-01-03T11:38:45.788631Z"
    },
    "code_folding": []
   },
   "outputs": [],
   "source": [
    "# your code here\n",
    "df=pd.read_csv(\"vehicles.csv\")\n"
   ]
  },
  {
   "cell_type": "code",
   "execution_count": 54,
   "metadata": {
    "ExecuteTime": {
     "end_time": "2022-01-03T11:38:39.521910Z",
     "start_time": "2022-01-03T11:38:39.412048Z"
    }
   },
   "outputs": [
    {
     "data": {
      "text/plain": [
       "(array([8.1000e+01, 3.7400e+02, 6.7650e+03, 1.7039e+04, 8.9660e+03,\n",
       "        2.0960e+03, 5.6900e+02, 3.6000e+01, 2.1000e+01, 5.0000e+00]),\n",
       " array([ 0.06      ,  4.76271429,  9.46542857, 14.16814286, 18.87085714,\n",
       "        23.57357143, 28.27628571, 32.979     , 37.68171429, 42.38442857,\n",
       "        47.08714286]),\n",
       " <BarContainer object of 10 artists>)"
      ]
     },
     "execution_count": 54,
     "metadata": {},
     "output_type": "execute_result"
    },
    {
     "data": {
      "image/png": "[encoded data removed]",
      "text/plain": [
       "<Figure size 432x288 with 1 Axes>"
      ]
     },
     "metadata": {
      "needs_background": "light"
     },
     "output_type": "display_data"
    }
   ],
   "source": [
    "plt.hist(df[\"Fuel Barrels/Year\"])"
   ]
  },
  {
   "cell_type": "markdown",
   "metadata": {},
   "source": [
    "2. CO2 Emission Grams/Mile "
   ]
  },
  {
   "cell_type": "code",
   "execution_count": 56,
   "metadata": {
    "ExecuteTime": {
     "end_time": "2022-01-03T11:38:58.503000Z",
     "start_time": "2022-01-03T11:38:58.384680Z"
    }
   },
   "outputs": [
    {
     "data": {
      "text/plain": [
       "(array([3.4000e+01, 8.3200e+02, 1.0205e+04, 1.5411e+04, 6.8250e+03,\n",
       "        2.0100e+03, 5.7300e+02, 3.6000e+01, 2.1000e+01, 5.0000e+00]),\n",
       " array([  37.        ,  160.25714286,  283.51428571,  406.77142857,\n",
       "         530.02857143,  653.28571429,  776.54285714,  899.8       ,\n",
       "        1023.05714286, 1146.31428571, 1269.57142857]),\n",
       " <BarContainer object of 10 artists>)"
      ]
     },
     "execution_count": 56,
     "metadata": {},
     "output_type": "execute_result"
    },
    {
     "data": {
      "image/png": "[encoded data removed]",
      "text/plain": [
       "<Figure size 432x288 with 1 Axes>"
      ]
     },
     "metadata": {
      "needs_background": "light"
     },
     "output_type": "display_data"
    }
   ],
   "source": [
    "plt.hist(df[\"CO2 Emission Grams/Mile\"])"
   ]
  },
  {
   "cell_type": "markdown",
   "metadata": {},
   "source": [
    "3. Combined MPG"
   ]
  },
  {
   "cell_type": "code",
   "execution_count": 57,
   "metadata": {
    "ExecuteTime": {
     "end_time": "2022-01-03T11:39:11.380701Z",
     "start_time": "2022-01-03T11:39:11.273766Z"
    }
   },
   "outputs": [
    {
     "data": {
      "text/plain": [
       "(array([6.3800e+02, 8.4990e+03, 1.5512e+04, 7.9320e+03, 2.4160e+03,\n",
       "        6.3600e+02, 2.1000e+02, 6.5000e+01, 3.3000e+01, 1.1000e+01]),\n",
       " array([ 7. , 11.9, 16.8, 21.7, 26.6, 31.5, 36.4, 41.3, 46.2, 51.1, 56. ]),\n",
       " <BarContainer object of 10 artists>)"
      ]
     },
     "execution_count": 57,
     "metadata": {},
     "output_type": "execute_result"
    },
    {
     "data": {
      "image/png": "[encoded data removed]",
      "text/plain": [
       "<Figure size 432x288 with 1 Axes>"
      ]
     },
     "metadata": {
      "needs_background": "light"
     },
     "output_type": "display_data"
    }
   ],
   "source": [
    "plt.hist(df[\"Combined MPG\"])"
   ]
  },
  {
   "cell_type": "markdown",
   "metadata": {},
   "source": [
    "Which one(s) of the variables are nearly normally distributed? How do you know?"
   ]
  },
  {
   "cell_type": "code",
   "execution_count": 60,
   "metadata": {
    "ExecuteTime": {
     "end_time": "2022-01-07T07:26:28.163707Z",
     "start_time": "2022-01-07T07:26:28.148708Z"
    }
   },
   "outputs": [],
   "source": [
    "# barrels & emission relatively normal, MPG left skew\n",
    "emision=df[\"CO2 Emission Grams/Mile\"]\n",
    "barrels=df[\"Fuel Barrels/Year\"]"
   ]
  },
  {
   "cell_type": "code",
   "execution_count": 67,
   "metadata": {
    "ExecuteTime": {
     "end_time": "2022-01-07T07:28:31.254598Z",
     "start_time": "2022-01-07T07:28:31.076101Z"
    }
   },
   "outputs": [
    {
     "data": {
      "text/plain": [
       "((array([-4.11594744, -3.90662027, -3.79235525, ...,  3.79235525,\n",
       "          3.90662027,  4.11594744]),\n",
       "  array([  37.        ,   40.        ,   40.        , ..., 1269.57142857,\n",
       "         1269.57142857, 1269.57142857])),\n",
       " (117.12260092467156, 475.31633925721235, 0.9836246804969049))"
      ]
     },
     "execution_count": 67,
     "metadata": {},
     "output_type": "execute_result"
    },
    {
     "data": {
      "image/png": "[encoded data removed]",
      "text/plain": [
       "<Figure size 432x288 with 1 Axes>"
      ]
     },
     "metadata": {
      "needs_background": "light"
     },
     "output_type": "display_data"
    }
   ],
   "source": [
    "stats.probplot(emision,dist=\"norm\",plot=plt)"
   ]
  },
  {
   "cell_type": "code",
   "execution_count": 68,
   "metadata": {
    "ExecuteTime": {
     "end_time": "2022-01-07T07:28:50.335410Z",
     "start_time": "2022-01-07T07:28:50.181745Z"
    }
   },
   "outputs": [
    {
     "data": {
      "text/plain": [
       "((array([-4.11594744, -3.90662027, -3.79235525, ...,  3.79235525,\n",
       "          3.90662027,  4.11594744]),\n",
       "  array([ 0.06      ,  0.06      ,  0.06      , ..., 47.08714286,\n",
       "         47.08714286, 47.08714286])),\n",
       " (4.39441058964782, 17.609055502328133, 0.9835911336856371))"
      ]
     },
     "execution_count": 68,
     "metadata": {},
     "output_type": "execute_result"
    },
    {
     "data": {
      "image/png": "[encoded data removed]",
      "text/plain": [
       "<Figure size 432x288 with 1 Axes>"
      ]
     },
     "metadata": {
      "needs_background": "light"
     },
     "output_type": "display_data"
    }
   ],
   "source": [
    "stats.probplot(barrels,dist=\"norm\",plot=plt)"
   ]
  },
  {
   "cell_type": "code",
   "execution_count": 70,
   "metadata": {
    "ExecuteTime": {
     "end_time": "2022-01-07T07:29:47.231238Z",
     "start_time": "2022-01-07T07:29:47.215239Z"
    }
   },
   "outputs": [
    {
     "data": {
      "text/plain": [
       "AndersonResult(statistic=319.97264712292963, critical_values=array([0.576, 0.656, 0.787, 0.918, 1.092]), significance_level=array([15. , 10. ,  5. ,  2.5,  1. ]))"
      ]
     },
     "execution_count": 70,
     "metadata": {},
     "output_type": "execute_result"
    }
   ],
   "source": [
    "stats.anderson(barrels,dist=\"norm\")"
   ]
  },
  {
   "cell_type": "markdown",
   "metadata": {},
   "source": [
    "## Exponential Distribution"
   ]
  },
  {
   "cell_type": "markdown",
   "metadata": {},
   "source": [
    "1. Using `numpy.random.exponential`, create a function that returns a list of numbers exponentially distributed with the mean of 10. \n",
    "\n",
    "1. Use the function to generate two number sequences with the size of 1 and 100.\n",
    "\n",
    "1. Plot the distributions as histograms with the nubmer of bins as 100."
   ]
  },
  {
   "cell_type": "code",
   "execution_count": 89,
   "metadata": {
    "ExecuteTime": {
     "end_time": "2022-01-07T07:53:36.698462Z",
     "start_time": "2022-01-07T07:53:36.689459Z"
    }
   },
   "outputs": [],
   "source": [
    "# your code here\n",
    "def expon_random(size):\n",
    "    return(np.random.exponential(scale=1/10,size=size))\n"
   ]
  },
  {
   "cell_type": "code",
   "execution_count": 90,
   "metadata": {
    "ExecuteTime": {
     "end_time": "2022-01-07T07:53:44.967427Z",
     "start_time": "2022-01-07T07:53:44.951429Z"
    }
   },
   "outputs": [],
   "source": [
    "sec1=expon_random(1)\n",
    "sec2=expon_random(100)"
   ]
  },
  {
   "cell_type": "markdown",
   "metadata": {},
   "source": [
    "How are the two distributions different?"
   ]
  },
  {
   "cell_type": "code",
   "execution_count": 94,
   "metadata": {
    "ExecuteTime": {
     "end_time": "2022-01-07T07:56:03.669597Z",
     "start_time": "2022-01-07T07:56:03.512694Z"
    },
    "scrolled": true
   },
   "outputs": [
    {
     "data": {
      "text/plain": [
       "(array([0., 0., 0., 0., 0., 0., 0., 0., 0., 0., 0., 0., 0., 0., 0., 0., 0.,\n",
       "        0., 0., 0., 0., 0., 0., 0., 0., 0., 0., 0., 0., 0., 0., 0., 0., 0.,\n",
       "        0., 0., 0., 0., 0., 0., 0., 0., 0., 0., 0., 0., 0., 0., 0., 0., 1.,\n",
       "        0., 0., 0., 0., 0., 0., 0., 0., 0., 0., 0., 0., 0., 0., 0., 0., 0.,\n",
       "        0., 0., 0., 0., 0., 0., 0., 0., 0., 0., 0., 0., 0., 0., 0., 0., 0.,\n",
       "        0., 0., 0., 0., 0., 0., 0., 0., 0., 0., 0., 0., 0., 0., 0.]),\n",
       " array([-0.49890874, -0.48890874, -0.47890874, -0.46890874, -0.45890874,\n",
       "        -0.44890874, -0.43890874, -0.42890874, -0.41890874, -0.40890874,\n",
       "        -0.39890874, -0.38890874, -0.37890874, -0.36890874, -0.35890874,\n",
       "        -0.34890874, -0.33890874, -0.32890874, -0.31890874, -0.30890874,\n",
       "        -0.29890874, -0.28890874, -0.27890874, -0.26890874, -0.25890874,\n",
       "        -0.24890874, -0.23890874, -0.22890874, -0.21890874, -0.20890874,\n",
       "        -0.19890874, -0.18890874, -0.17890874, -0.16890874, -0.15890874,\n",
       "        -0.14890874, -0.13890874, -0.12890874, -0.11890874, -0.10890874,\n",
       "        -0.09890874, -0.08890874, -0.07890874, -0.06890874, -0.05890874,\n",
       "        -0.04890874, -0.03890874, -0.02890874, -0.01890874, -0.00890874,\n",
       "         0.00109126,  0.01109126,  0.02109126,  0.03109126,  0.04109126,\n",
       "         0.05109126,  0.06109126,  0.07109126,  0.08109126,  0.09109126,\n",
       "         0.10109126,  0.11109126,  0.12109126,  0.13109126,  0.14109126,\n",
       "         0.15109126,  0.16109126,  0.17109126,  0.18109126,  0.19109126,\n",
       "         0.20109126,  0.21109126,  0.22109126,  0.23109126,  0.24109126,\n",
       "         0.25109126,  0.26109126,  0.27109126,  0.28109126,  0.29109126,\n",
       "         0.30109126,  0.31109126,  0.32109126,  0.33109126,  0.34109126,\n",
       "         0.35109126,  0.36109126,  0.37109126,  0.38109126,  0.39109126,\n",
       "         0.40109126,  0.41109126,  0.42109126,  0.43109126,  0.44109126,\n",
       "         0.45109126,  0.46109126,  0.47109126,  0.48109126,  0.49109126,\n",
       "         0.50109126]),\n",
       " <BarContainer object of 100 artists>)"
      ]
     },
     "execution_count": 94,
     "metadata": {},
     "output_type": "execute_result"
    },
    {
     "data": {
      "image/png": "[encoded data removed]",
      "text/plain": [
       "<Figure size 432x288 with 1 Axes>"
      ]
     },
     "metadata": {
      "needs_background": "light"
     },
     "output_type": "display_data"
    }
   ],
   "source": [
    "# no variation can be see when size =1\n",
    "plt.hist(sec1,bins=100)"
   ]
  },
  {
   "cell_type": "code",
   "execution_count": 95,
   "metadata": {
    "ExecuteTime": {
     "end_time": "2022-01-07T07:56:15.948687Z",
     "start_time": "2022-01-07T07:56:15.776284Z"
    }
   },
   "outputs": [
    {
     "data": {
      "text/plain": [
       "(array([5., 3., 6., 6., 4., 5., 0., 1., 4., 3., 5., 4., 1., 2., 4., 2., 2.,\n",
       "        0., 0., 1., 3., 0., 1., 4., 3., 4., 1., 0., 2., 1., 3., 0., 1., 0.,\n",
       "        1., 1., 1., 2., 0., 2., 0., 1., 0., 0., 0., 1., 0., 0., 0., 2., 0.,\n",
       "        0., 1., 0., 0., 0., 0., 1., 0., 0., 1., 1., 0., 0., 0., 0., 0., 1.,\n",
       "        1., 1., 0., 0., 0., 0., 0., 0., 0., 0., 0., 0., 0., 0., 0., 0., 0.,\n",
       "        0., 0., 0., 0., 0., 0., 0., 0., 0., 0., 0., 0., 0., 0., 1.]),\n",
       " array([0.00085664, 0.00615165, 0.01144667, 0.01674169, 0.02203671,\n",
       "        0.02733173, 0.03262674, 0.03792176, 0.04321678, 0.0485118 ,\n",
       "        0.05380682, 0.05910183, 0.06439685, 0.06969187, 0.07498689,\n",
       "        0.08028191, 0.08557692, 0.09087194, 0.09616696, 0.10146198,\n",
       "        0.106757  , 0.11205201, 0.11734703, 0.12264205, 0.12793707,\n",
       "        0.13323209, 0.1385271 , 0.14382212, 0.14911714, 0.15441216,\n",
       "        0.15970718, 0.1650022 , 0.17029721, 0.17559223, 0.18088725,\n",
       "        0.18618227, 0.19147729, 0.1967723 , 0.20206732, 0.20736234,\n",
       "        0.21265736, 0.21795238, 0.22324739, 0.22854241, 0.23383743,\n",
       "        0.23913245, 0.24442747, 0.24972248, 0.2550175 , 0.26031252,\n",
       "        0.26560754, 0.27090256, 0.27619757, 0.28149259, 0.28678761,\n",
       "        0.29208263, 0.29737765, 0.30267266, 0.30796768, 0.3132627 ,\n",
       "        0.31855772, 0.32385274, 0.32914775, 0.33444277, 0.33973779,\n",
       "        0.34503281, 0.35032783, 0.35562284, 0.36091786, 0.36621288,\n",
       "        0.3715079 , 0.37680292, 0.38209794, 0.38739295, 0.39268797,\n",
       "        0.39798299, 0.40327801, 0.40857303, 0.41386804, 0.41916306,\n",
       "        0.42445808, 0.4297531 , 0.43504812, 0.44034313, 0.44563815,\n",
       "        0.45093317, 0.45622819, 0.46152321, 0.46681822, 0.47211324,\n",
       "        0.47740826, 0.48270328, 0.4879983 , 0.49329331, 0.49858833,\n",
       "        0.50388335, 0.50917837, 0.51447339, 0.5197684 , 0.52506342,\n",
       "        0.53035844]),\n",
       " <BarContainer object of 100 artists>)"
      ]
     },
     "execution_count": 95,
     "metadata": {},
     "output_type": "execute_result"
    },
    {
     "data": {
      "image/png": "[encoded data removed]",
      "text/plain": [
       "<Figure size 432x288 with 1 Axes>"
      ]
     },
     "metadata": {
      "needs_background": "light"
     },
     "output_type": "display_data"
    }
   ],
   "source": [
    "plt.hist(sec2,bins=100)"
   ]
  },
  {
   "cell_type": "markdown",
   "metadata": {},
   "source": [
    "## Exponential Distribution of Real Data\n",
    "\n",
    "Suppose that the amount of time one spends in a bank is exponentially distributed with mean as 10 minutes (i.e. λ = 1/10). What is the probability that a customer will spend less than fifteen minutes in the bank? \n",
    "\n",
    "Write a code in python to solve this problem"
   ]
  },
  {
   "cell_type": "code",
   "execution_count": 104,
   "metadata": {
    "ExecuteTime": {
     "end_time": "2022-01-07T08:01:23.678349Z",
     "start_time": "2022-01-07T08:01:23.669331Z"
    }
   },
   "outputs": [
    {
     "data": {
      "text/plain": [
       "0.9932620530009145"
      ]
     },
     "execution_count": 104,
     "metadata": {},
     "output_type": "execute_result"
    }
   ],
   "source": [
    "stats.expon(10).cdf(15)\n"
   ]
  },
  {
   "cell_type": "markdown",
   "metadata": {},
   "source": [
    "What is the probability that the customer will spend more than 15 minutes"
   ]
  },
  {
   "cell_type": "code",
   "execution_count": 106,
   "metadata": {
    "ExecuteTime": {
     "end_time": "2022-01-07T08:02:06.611617Z",
     "start_time": "2022-01-07T08:02:06.591606Z"
    }
   },
   "outputs": [
    {
     "data": {
      "text/plain": [
       "0.006737946999085467"
      ]
     },
     "execution_count": 106,
     "metadata": {},
     "output_type": "execute_result"
    }
   ],
   "source": [
    "stats.expon(10).sf(15)"
   ]
  }
 ],
 "metadata": {
  "kernelspec": {
   "display_name": "Python 3",
   "language": "python",
   "name": "python3"
  },
  "language_info": {
   "codemirror_mode": {
    "name": "ipython",
    "version": 3
   },
   "file_extension": ".py",
   "mimetype": "text/x-python",
   "name": "python",
   "nbconvert_exporter": "python",
   "pygments_lexer": "ipython3",
   "version": "3.8.8"
  },
  "toc": {
   "base_numbering": 1,
   "nav_menu": {},
   "number_sections": true,
   "sideBar": true,
   "skip_h1_title": false,
   "title_cell": "Table of Contents",
   "title_sidebar": "Contents",
   "toc_cell": false,
   "toc_position": {},
   "toc_section_display": true,
   "toc_window_display": false
  },
  "varInspector": {
   "cols": {
    "lenName": 16,
    "lenType": 16,
    "lenVar": 40
   },
   "kernels_config": {
    "python": {
     "delete_cmd_postfix": "",
     "delete_cmd_prefix": "del ",
     "library": "var_list.py",
     "varRefreshCmd": "print(var_dic_list())"
    },
    "r": {
     "delete_cmd_postfix": ") ",
     "delete_cmd_prefix": "rm(",
     "library": "var_list.r",
     "varRefreshCmd": "cat(var_dic_list()) "
    }
   },
   "types_to_exclude": [
    "module",
    "function",
    "builtin_function_or_method",
    "instance",
    "_Feature"
   ],
   "window_display": false
  }
 },
 "nbformat": 4,
 "nbformat_minor": 2
}
