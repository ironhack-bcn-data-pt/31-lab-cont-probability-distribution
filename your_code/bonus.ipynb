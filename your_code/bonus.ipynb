{
 "cells": [
  {
   "cell_type": "markdown",
   "metadata": {},
   "source": [
    "# Before your start:\n",
    "- Read the README.md file\n",
    "- Comment as much as you can and use the resources (README.md file)\n",
    "- Happy learning!"
   ]
  },
  {
   "cell_type": "code",
   "execution_count": 1,
   "metadata": {
    "ExecuteTime": {
     "end_time": "2019-08-05T07:06:49.475565Z",
     "start_time": "2019-08-05T07:06:48.569463Z"
    }
   },
   "outputs": [],
   "source": [
    "from scipy import stats;\n",
    "import pandas as pd;\n",
    "import numpy as np;\n",
    "import matplotlib.pyplot as plt"
   ]
  },
  {
   "cell_type": "markdown",
   "metadata": {},
   "source": [
    "# Challenge 1 - Generate and Plot Normal Distributions"
   ]
  },
  {
   "cell_type": "markdown",
   "metadata": {},
   "source": [
    "#### Step 1: Generate samples and test normal distribution\n",
    "\n",
    "Use mean = 50, standard_deviation = 5 and sample_size=[10, 50, 500, 5000] to generate 4 random samples that are normally distributed. Test your normal distributions with [`scipy.stats.normaltest`](https://docs.scipy.org/doc/scipy/reference/generated/scipy.stats.normaltest.html).\n",
    "\n",
    "\n",
    "*Hint: Read the documentation for `scipy.stats.normaltest`. The function does not simply return Yes or No for whether your data is normal distribution. It returns the likelihood.*"
   ]
  },
  {
   "cell_type": "code",
   "execution_count": 2,
   "metadata": {
    "ExecuteTime": {
     "end_time": "2019-08-05T07:06:49.493337Z",
     "start_time": "2019-08-05T07:06:49.477983Z"
    }
   },
   "outputs": [
    {
     "name": "stderr",
     "output_type": "stream",
     "text": [
      "/usr/local/lib/python3.8/site-packages/scipy/stats/stats.py:1541: UserWarning: kurtosistest only valid for n>=20 ... continuing anyway, n=10\n",
      "  warnings.warn(\"kurtosistest only valid for n>=20 ... continuing \"\n"
     ]
    },
    {
     "data": {
      "text/plain": [
       "[NormaltestResult(statistic=0.7568281440905453, pvalue=0.6849468246061927),\n",
       " NormaltestResult(statistic=0.4281355752348648, pvalue=0.8072936586541289),\n",
       " NormaltestResult(statistic=0.2006193882638816, pvalue=0.9045572385844387),\n",
       " NormaltestResult(statistic=1.009853422937666, pvalue=0.6035498070850315)]"
      ]
     },
     "execution_count": 2,
     "metadata": {},
     "output_type": "execute_result"
    }
   ],
   "source": [
    "# Variables\n",
    "mu = 50;\n",
    "sigma = 5;\n",
    "sample_size = [10, 50, 500, 5000]\n",
    "\n",
    "# Distributions & Tests\n",
    "dists = [np.random.normal(mu, sigma, size) for size in sample_size]\n",
    "tests = [stats.normaltest(dist) for dist in dists]\n",
    "\n",
    "# Show tests\n",
    "tests"
   ]
  },
  {
   "cell_type": "markdown",
   "metadata": {},
   "source": [
    "#### Interpret the normaltest results and make your observations."
   ]
  },
  {
   "cell_type": "markdown",
   "metadata": {},
   "source": [
    "`Comments:`\n"
   ]
  },
  {
   "cell_type": "markdown",
   "metadata": {},
   "source": [
    "Since the p-value is superior to 0.05 in all 4 cases , we cannot reject the H0, which is \"the samples follow a normal distribution\""
   ]
  },
  {
   "cell_type": "markdown",
   "metadata": {},
   "source": [
    "#### Step 2: Plot normal distributions\n",
    "\n",
    "Use matplotlib subplots to plot a histogram of each sample. \n",
    "\n",
    "*Hints:*\n",
    "- Use subplots to compare your figures side by side.\n",
    "\n",
    "- Your output should look like below:\n",
    "\n",
    "![normal distributions with different sample sizes](images/ch-1.png)"
   ]
  },
  {
   "cell_type": "code",
   "execution_count": 3,
   "metadata": {
    "ExecuteTime": {
     "end_time": "2019-08-05T07:06:49.497805Z",
     "start_time": "2019-08-05T07:06:49.495453Z"
    }
   },
   "outputs": [
    {
     "data": {
      "text/plain": [
       "(array([  5.,  17.,  51., 134., 301., 570., 855., 862., 854., 645., 382.,\n",
       "        202.,  97.,  16.,   9.]),\n",
       " array([32.00320166, 34.3498024 , 36.69640313, 39.04300387, 41.38960461,\n",
       "        43.73620534, 46.08280608, 48.42940682, 50.77600755, 53.12260829,\n",
       "        55.46920902, 57.81580976, 60.1624105 , 62.50901123, 64.85561197,\n",
       "        67.20221271]),\n",
       " <BarContainer object of 15 artists>)"
      ]
     },
     "execution_count": 3,
     "metadata": {},
     "output_type": "execute_result"
    },
    {
     "data": {
      "image/png": "[encoded data removed]",
      "text/plain": [
       "<Figure size 2160x576 with 4 Axes>"
      ]
     },
     "metadata": {
      "needs_background": "light"
     },
     "output_type": "display_data"
    }
   ],
   "source": [
    "# Create figure and axes\n",
    "fig, (ax1,ax2,ax3,ax4) = plt.subplots(1,4)\n",
    "fig.set_size_inches(30,8)\n",
    "\n",
    "# Variables\n",
    "x = np.linspace(0,10,100)\n",
    "dist1 = dists[0]\n",
    "dist2 = dists[1]\n",
    "dist3 = dists[2]\n",
    "dist4 = dists[3]\n",
    "\n",
    "# Plot each histogram\n",
    "\n",
    "ax1.hist(dist1,bins=15)\n",
    "ax2.hist(dist2,bins=15)\n",
    "ax3.hist(dist3,bins=15)\n",
    "ax4.hist(dist4,bins=15)"
   ]
  },
  {
   "cell_type": "markdown",
   "metadata": {},
   "source": [
    "#### Compare the distributions above. What do you observe? Explain with the Central Limit Theorem."
   ]
  },
  {
   "cell_type": "markdown",
   "metadata": {},
   "source": [
    "`Comments:`\n"
   ]
  },
  {
   "cell_type": "markdown",
   "metadata": {},
   "source": [
    "According to the central limit theorem, as the size of the sample increases it's more likely that the distribution will fit a normal distribution. Here we can see that the smallest sample, doesn't look like a normal distribution (although d'Agostino test tells us that we cannot reject that in fact it is one). As we increase size (figures 2,3 and 4), the resemblance gets better, and in the 4th plot we can see clearly the bell shape."
   ]
  },
  {
   "cell_type": "markdown",
   "metadata": {},
   "source": [
    "# Challenge 2 - Plot Probability Mass Function (PMF)"
   ]
  },
  {
   "cell_type": "markdown",
   "metadata": {},
   "source": [
    "#### Background knowledge\n",
    "\n",
    "[PMF](https://en.wikipedia.org/wiki/Probability_mass_function) shows the probability distribution of a **discrete random variable**. A [discrete random variable](https://en.wikipedia.org/wiki/Random_variable#Discrete_random_variable) has random numeric values that are not continuous. For example, the number of people in a household can only be integers but not floats. Therefore the number of people in a household is a discrete variable.\n",
    "\n",
    "#### Question: We assume that the probability of clicking an Ad in a Youtube video is 0.15. We have a sample of 5 people who watched the video and we want to plot the PMF for a binomial distribution.\n",
    "\n",
    "*Hint: use binom from `scipy.stats.binom`. Your output should look like below:*\n",
    "\n",
    "![binom 10](images/ch-2.png)"
   ]
  },
  {
   "cell_type": "code",
   "execution_count": 4,
   "metadata": {
    "ExecuteTime": {
     "end_time": "2019-08-05T07:06:49.502188Z",
     "start_time": "2019-08-05T07:06:49.500078Z"
    }
   },
   "outputs": [
    {
     "data": {
      "text/plain": [
       "<matplotlib.collections.LineCollection at 0x124793070>"
      ]
     },
     "execution_count": 4,
     "metadata": {},
     "output_type": "execute_result"
    },
    {
     "data": {
      "image/png": "[encoded data removed]",
      "text/plain": [
       "<Figure size 432x288 with 1 Axes>"
      ]
     },
     "metadata": {
      "needs_background": "light"
     },
     "output_type": "display_data"
    }
   ],
   "source": [
    "# Variables \n",
    "p = 0.15\n",
    "n = 5\n",
    "\n",
    "# Binomial distribution\n",
    "bindist = stats.binom(n,p)\n",
    "\n",
    "# Plot line + bullet point -> Discrete Distribution Representation\n",
    "x = np.arange(bindist.ppf(0.01), bindist.ppf(0.99))\n",
    "fmp = bindist.pmf(x)\n",
    "plt.plot(x, fmp, '-')\n",
    "plt.vlines(x, 0, fmp, colors='b', lw=5, alpha=0.5)"
   ]
  },
  {
   "cell_type": "markdown",
   "metadata": {},
   "source": [
    "#### Explain what you observe from the plot above."
   ]
  },
  {
   "cell_type": "markdown",
   "metadata": {},
   "source": [
    "`Comments:`\n",
    "\n"
   ]
  },
  {
   "cell_type": "markdown",
   "metadata": {},
   "source": [
    "Here we see the probabilitaty that \"x\" number of people (from a group of 5) watched the add. Since the probability of watching the ad is pretty low (0.15), the most probable outcome is that 0 people from this group watched it. "
   ]
  },
  {
   "cell_type": "code",
   "execution_count": 5,
   "metadata": {},
   "outputs": [
    {
     "name": "stdout",
     "output_type": "stream",
     "text": [
      "the probability that 0 out of 5 people watched the ad is 44.371\n"
     ]
    }
   ],
   "source": [
    "print(f'the probability that 0 out of 5 people watched the ad is {round(bindist.pmf(0) * 100,3)}')"
   ]
  },
  {
   "cell_type": "markdown",
   "metadata": {},
   "source": [
    "#### Now plot PMP with 50, 500, and 5000 visitors."
   ]
  },
  {
   "cell_type": "code",
   "execution_count": 6,
   "metadata": {
    "ExecuteTime": {
     "end_time": "2019-08-05T07:06:49.648115Z",
     "start_time": "2019-08-05T07:06:49.645556Z"
    }
   },
   "outputs": [
    {
     "data": {
      "image/png": "[encoded data removed]",
      "text/plain": [
       "<Figure size 2160x576 with 3 Axes>"
      ]
     },
     "metadata": {
      "needs_background": "light"
     },
     "output_type": "display_data"
    }
   ],
   "source": [
    "# Create figure and axes\n",
    "fig, (ax1,ax2,ax3) = plt.subplots(1,3)\n",
    "fig.set_size_inches(30,8)\n",
    "\n",
    "# Variables\n",
    "p = 0.15\n",
    "n = [50,500,5000]\n",
    "subs = [ax1,ax2,ax3]\n",
    "\n",
    "# Plot each PMF\n",
    "for i,j in zip(n, subs):\n",
    "    dist = stats.binom(i,p)\n",
    "    x = np.arange(dist.ppf(0.01), dist.ppf(0.99))\n",
    "    fmp = dist.pmf(x)\n",
    "    j.plot(x, fmp, '-')\n",
    "    j.vlines(x, 0, fmp, colors='b', lw=5, alpha=0.5)\n",
    "    j.set_title(f'mean is {dist.mean()}')\n",
    "      \n",
    "# For visualization reasons, the next discrete distributions are represented using continuous lines"
   ]
  },
  {
   "cell_type": "markdown",
   "metadata": {},
   "source": [
    "#### What did you notice from the distribution plots? Comment your findings."
   ]
  },
  {
   "cell_type": "markdown",
   "metadata": {},
   "source": [
    "`Comments:`\n"
   ]
  },
  {
   "cell_type": "markdown",
   "metadata": {},
   "source": [
    "Even in the smallest sample, normality can be clearly appreciated. If we calculate the mean for each, we can see that it falls in 7.5, 75, and 750 incresing by 1 digit as we increase the size be 1 digit too. "
   ]
  },
  {
   "cell_type": "markdown",
   "metadata": {},
   "source": [
    "# Challenge 3"
   ]
  },
  {
   "cell_type": "markdown",
   "metadata": {},
   "source": [
    "#### Reaserch the Poisson distribution. Write about your own understanding of the Poisson distribution."
   ]
  },
  {
   "cell_type": "markdown",
   "metadata": {},
   "source": [
    "`Comments:`<br/>\n"
   ]
  },
  {
   "cell_type": "markdown",
   "metadata": {},
   "source": [
    "Poisson distribution tells us the probability that an event occurs in a certain stablished period."
   ]
  },
  {
   "cell_type": "markdown",
   "metadata": {},
   "source": [
    "#### A website has an average of 300 visits per day. What is the probability of getting 320 visitors in a day?\n",
    "\n",
    "*Hint: use `scipy.stats.poisson`*"
   ]
  },
  {
   "cell_type": "code",
   "execution_count": 7,
   "metadata": {
    "ExecuteTime": {
     "end_time": "2019-08-05T07:06:50.158426Z",
     "start_time": "2019-08-05T07:06:50.155903Z"
    }
   },
   "outputs": [
    {
     "name": "stdout",
     "output_type": "stream",
     "text": [
      "the probability of getting exactly 320 visitors in a day is 1.161\n"
     ]
    }
   ],
   "source": [
    "# Variables\n",
    "mu = 300\n",
    "visits = 320\n",
    "\n",
    "# Probability\n",
    "poisdist = stats.poisson(mu)\n",
    "print(f'the probability of getting exactly 320 visitors in a day is {round(poisdist.pmf(visits) * 100,3)}')"
   ]
  },
  {
   "cell_type": "markdown",
   "metadata": {},
   "source": [
    "#### What is the probability of getting 60 visits?"
   ]
  },
  {
   "cell_type": "code",
   "execution_count": 8,
   "metadata": {
    "ExecuteTime": {
     "end_time": "2019-08-05T07:06:50.245763Z",
     "start_time": "2019-08-05T07:06:50.242293Z"
    }
   },
   "outputs": [
    {
     "name": "stdout",
     "output_type": "stream",
     "text": [
      "the probability of getting exactly 320 visitors in a day is 2.622743762294515e-62\n"
     ]
    }
   ],
   "source": [
    "# Variables\n",
    "visits = 60\n",
    "\n",
    "# Probability\n",
    "poisdist = stats.poisson(mu)\n",
    "print(f'the probability of getting exactly 320 visitors in a day is {poisdist.pmf(visits) * 100}')"
   ]
  },
  {
   "cell_type": "markdown",
   "metadata": {},
   "source": [
    "#### Plot the distribution of the probability for getting 0-1000 visits.\n",
    "\n",
    "*Hints:* \n",
    "\n",
    "- Create a list to store the Poisson distribution probabilities for n=0 to 1000. Then plot the probabilities.\n",
    "\n",
    "- Your plot should look like below:\n",
    "\n",
    "![poisson distribution](images/ch-3.png)"
   ]
  },
  {
   "cell_type": "code",
   "execution_count": 9,
   "metadata": {
    "ExecuteTime": {
     "end_time": "2019-08-05T07:06:50.331011Z",
     "start_time": "2019-08-05T07:06:50.328383Z"
    }
   },
   "outputs": [
    {
     "data": {
      "text/plain": [
       "Text(0.5, 1.0, 'mean is 300.0 with probability of 2.303%')"
      ]
     },
     "execution_count": 9,
     "metadata": {},
     "output_type": "execute_result"
    },
    {
     "data": {
      "image/png": "[encoded data removed]",
      "text/plain": [
       "<Figure size 432x288 with 1 Axes>"
      ]
     },
     "metadata": {
      "needs_background": "light"
     },
     "output_type": "display_data"
    }
   ],
   "source": [
    "# Variables\n",
    "visits = range(1000)\n",
    "poisdist = stats.poisson(300)\n",
    "\n",
    "# Plot of the distribution\n",
    "x = visits\n",
    "fmp = poisdist.pmf(x) \n",
    "plt.plot(x, fmp, '--')\n",
    "plt.vlines(x, 0, fmp, colors='b', lw=5, alpha=0.5)\n",
    "plt.title(f'mean is {poisdist.mean()} with probability of {round(poisdist.pmf(300)*100,3)}%')"
   ]
  },
  {
   "cell_type": "markdown",
   "metadata": {},
   "source": [
    "# Challenge 4 - Central Limit Theorem\n",
    "#### Example of application\n",
    "\n",
    "A delivery company needs 35 minutes to deliver a package, with a standard deviation of 8 minutes. Suppose that in one day, they deliver 200 packages.\n",
    "\n",
    "#### a. What is the probability that the mean delivery time today is between 30 and 35 minutes?"
   ]
  },
  {
   "cell_type": "code",
   "execution_count": 90,
   "metadata": {
    "ExecuteTime": {
     "end_time": "2019-08-05T07:06:50.418811Z",
     "start_time": "2019-08-05T07:06:50.416549Z"
    }
   },
   "outputs": [
    {
     "name": "stdout",
     "output_type": "stream",
     "text": [
      "the probability of the mean being between 30 and 35 is 27.919%\n"
     ]
    },
    {
     "data": {
      "image/png": "[encoded data removed]",
      "text/plain": [
       "<Figure size 432x288 with 1 Axes>"
      ]
     },
     "metadata": {
      "needs_background": "light"
     },
     "output_type": "display_data"
    }
   ],
   "source": [
    "# Variables\n",
    "\n",
    "mu = 35;\n",
    "sigma = 8;\n",
    "sample_size = 200 # not used?..\n",
    "rv = stats.norm(loc=mu, scale=sigma)  #scale is used to include deviation\n",
    "x = np.arange(rv.ppf(0.01), rv.ppf(0.99))\n",
    "fmp = rv.pdf(x)\n",
    "# Probability\n",
    "plt.plot(x, fmp, '--')\n",
    "plt.vlines(x, 0, fmp, colors='b', lw=5, alpha=0.5)\n",
    "between3035 = (100*(rv.pdf(30)+rv.pdf(31)+rv.pdf(32)+rv.pdf(33)+rv.pdf(34)+rv.pdf(35)))\n",
    "print(f'the probability of the mean being between 30 and 35 is {round(between3035,3)}%')"
   ]
  },
  {
   "cell_type": "code",
   "execution_count": 91,
   "metadata": {},
   "outputs": [
    {
     "data": {
      "text/plain": [
       "(array([ 3.,  7.,  8., 35., 55., 50., 23., 16.,  2.,  1.]),\n",
       " array([11.50549463, 16.42530861, 21.3451226 , 26.26493658, 31.18475056,\n",
       "        36.10456455, 41.02437853, 45.94419252, 50.8640065 , 55.78382049,\n",
       "        60.70363447]),\n",
       " <BarContainer object of 10 artists>)"
      ]
     },
     "execution_count": 91,
     "metadata": {},
     "output_type": "execute_result"
    },
    {
     "data": {
      "image/png": "[encoded data removed]",
      "text/plain": [
       "<Figure size 432x288 with 1 Axes>"
      ]
     },
     "metadata": {
      "needs_background": "light"
     },
     "output_type": "display_data"
    }
   ],
   "source": [
    "# if we sample 200 of the distribution..\n",
    "realdist = rv.rvs(size=200)\n",
    "plt.hist(realdist)"
   ]
  },
  {
   "cell_type": "markdown",
   "metadata": {},
   "source": [
    "#### b. What is the probability that in total, it takes more than 115 hours to deliver all 200 packages?"
   ]
  },
  {
   "cell_type": "code",
   "execution_count": 12,
   "metadata": {
    "ExecuteTime": {
     "end_time": "2019-08-05T07:06:50.517605Z",
     "start_time": "2019-08-05T07:06:50.515513Z"
    }
   },
   "outputs": [],
   "source": [
    "# Variables\n",
    "\n",
    "\n",
    "# Probability\n"
   ]
  },
  {
   "cell_type": "markdown",
   "metadata": {},
   "source": [
    "# Challenge 5 - Normal Variables \n",
    "\n",
    "The value (in thousands) of the monthly sales of a publishing company follows a normal distribution with a mean equal to 200 and a standard deviation equal to 40. \n",
    "\n",
    "<div align=\"center\">$X → N(200,40)$</div>\n",
    "\n",
    "#### 1. Find the probability that the monthly sales are more than 300. "
   ]
  },
  {
   "cell_type": "code",
   "execution_count": 114,
   "metadata": {
    "ExecuteTime": {
     "end_time": "2019-08-05T07:06:50.609172Z",
     "start_time": "2019-08-05T07:06:50.606690Z"
    }
   },
   "outputs": [
    {
     "name": "stdout",
     "output_type": "stream",
     "text": [
      "the probability that sales are more than 300 are 0.643%\n"
     ]
    }
   ],
   "source": [
    "# Variables\n",
    "salesdist = stats.norm(loc=200, scale=40)\n",
    "\n",
    "# Probability\n",
    "\n",
    "p = 1\n",
    "for x in range(0,300):\n",
    "    p -= salesdist.pdf(x)\n",
    "\n",
    "print(f'the probability that sales are more than 300 are {round(p*100,3)}%')\n",
    "\n"
   ]
  },
  {
   "cell_type": "markdown",
   "metadata": {},
   "source": [
    "#### 2. Find the probability that the monthly sales fall between 160 and 240."
   ]
  },
  {
   "cell_type": "code",
   "execution_count": 127,
   "metadata": {
    "ExecuteTime": {
     "end_time": "2019-08-05T07:06:50.699269Z",
     "start_time": "2019-08-05T07:06:50.696850Z"
    }
   },
   "outputs": [
    {
     "name": "stdout",
     "output_type": "stream",
     "text": [
      "the probability that sales fall between 160 and 240 (both included) is 68.266%\n",
      "Notice that 68% corresponds with one deviation according to the normal distribution\n"
     ]
    }
   ],
   "source": [
    "# Probability\n",
    "p = 0\n",
    "for x in range(160,240):\n",
    "    p += salesdist.pdf(x)\n",
    "\n",
    "print(f'the probability that sales fall between 160 and 240 (both included) is {round(p*100,3)}%')\n",
    "print('Notice that 68% corresponds with one deviation according to the normal distribution')"
   ]
  },
  {
   "cell_type": "markdown",
   "metadata": {},
   "source": [
    "#### 3. Find the probability that the monthly sales do not exceed 150."
   ]
  },
  {
   "cell_type": "code",
   "execution_count": 121,
   "metadata": {
    "ExecuteTime": {
     "end_time": "2019-08-05T07:06:50.790830Z",
     "start_time": "2019-08-05T07:06:50.788448Z"
    }
   },
   "outputs": [
    {
     "name": "stdout",
     "output_type": "stream",
     "text": [
      "the probability that sales do not exceed 150 is 10.565%\n"
     ]
    }
   ],
   "source": [
    "# Probability\n",
    "print(f'the probability that sales do not exceed 150 is {round(salesdist.cdf(150) * 100,3)}%')"
   ]
  },
  {
   "cell_type": "markdown",
   "metadata": {},
   "source": [
    "#### 4. Find the probability that the monthly sales exceed 3000. "
   ]
  },
  {
   "cell_type": "code",
   "execution_count": 133,
   "metadata": {
    "ExecuteTime": {
     "end_time": "2019-08-05T07:06:50.888712Z",
     "start_time": "2019-08-05T07:06:50.886459Z"
    }
   },
   "outputs": [
    {
     "name": "stdout",
     "output_type": "stream",
     "text": [
      "the probability that sales exceed 3000 is 0.0%\n"
     ]
    }
   ],
   "source": [
    "# Probability\n",
    "p = 1\n",
    "for x in range(0,3000):\n",
    "    p -= salesdist.pdf(x)\n",
    "\n",
    "print(f'the probability that sales exceed 3000 is {(round(p*100,3))}%')"
   ]
  },
  {
   "cell_type": "markdown",
   "metadata": {},
   "source": [
    "# Challenge 6 - Poisson distribution\n",
    "The mean number of violent robberies per month that are registered in a particular barrio is 4. Find the following probabilities.\n",
    "#### 1.The probability that in a particular month there is no violent robbery."
   ]
  },
  {
   "cell_type": "code",
   "execution_count": 141,
   "metadata": {
    "ExecuteTime": {
     "end_time": "2019-08-05T07:06:50.988581Z",
     "start_time": "2019-08-05T07:06:50.985153Z"
    }
   },
   "outputs": [
    {
     "name": "stdout",
     "output_type": "stream",
     "text": [
      "the probability that there is no robbery is 1.832%\n"
     ]
    }
   ],
   "source": [
    "# Variables\n",
    "mu = 4\n",
    "poisdist = stats.poisson(mu)\n",
    "# Probability\n",
    "print(f'the probability that there is no robbery is {(round(poisdist.pmf(0)*100,3))}%')"
   ]
  },
  {
   "cell_type": "markdown",
   "metadata": {},
   "source": [
    "#### 2. The probability that there are at least 1 in a given month. "
   ]
  },
  {
   "cell_type": "code",
   "execution_count": 157,
   "metadata": {
    "ExecuteTime": {
     "end_time": "2019-08-05T07:06:51.082118Z",
     "start_time": "2019-08-05T07:06:51.079802Z"
    }
   },
   "outputs": [
    {
     "name": "stdout",
     "output_type": "stream",
     "text": [
      "the probability that at least 1 robbery happens is 98.168%\n"
     ]
    }
   ],
   "source": [
    "# Probability\n",
    "p = round(((1 - poisdist.pmf(0)) * 100),3)\n",
    "print(f'the probability that at least 1 robbery happens is {p}%')"
   ]
  },
  {
   "cell_type": "markdown",
   "metadata": {},
   "source": [
    "#### 3. The probability that there are between 2 and 6 (inclusive) in a given month."
   ]
  },
  {
   "cell_type": "code",
   "execution_count": 163,
   "metadata": {
    "ExecuteTime": {
     "end_time": "2019-08-05T07:06:51.173350Z",
     "start_time": "2019-08-05T07:06:51.170809Z"
    }
   },
   "outputs": [
    {
     "name": "stdout",
     "output_type": "stream",
     "text": [
      "the probability that there are between 2 and 6 robberies is 69.355%\n"
     ]
    }
   ],
   "source": [
    "# Probability\n",
    "p = 0\n",
    "for x in range(2,6):\n",
    "    p += poisdist.pmf(x)\n",
    "\n",
    "print(f'the probability that there are between 2 and 6 robberies is {round((p*100),3)}%')"
   ]
  },
  {
   "cell_type": "markdown",
   "metadata": {},
   "source": [
    "#### 4. The probability that there more than two in 15 days.  "
   ]
  },
  {
   "cell_type": "code",
   "execution_count": 172,
   "metadata": {
    "ExecuteTime": {
     "end_time": "2019-08-05T07:06:51.266542Z",
     "start_time": "2019-08-05T07:06:51.264134Z"
    }
   },
   "outputs": [
    {
     "name": "stdout",
     "output_type": "stream",
     "text": [
      "the probability that there are more than 2 robberies in 15 days is 32.33235838169366%\n"
     ]
    }
   ],
   "source": [
    "# Probability\n",
    "mu = 2\n",
    "poisdist = stats.poisson(mu)\n",
    "p = (1 - poisdist.cdf(2)) * 100\n",
    "print(f'the probability that there are more than 2 robberies in 15 days is {p}%')"
   ]
  },
  {
   "cell_type": "code",
   "execution_count": null,
   "metadata": {},
   "outputs": [],
   "source": []
  }
 ],
 "metadata": {
  "anaconda-cloud": {},
  "kernelspec": {
   "display_name": "Python 3 (ipykernel)",
   "language": "python",
   "name": "python3"
  },
  "language_info": {
   "codemirror_mode": {
    "name": "ipython",
    "version": 3
   },
   "file_extension": ".py",
   "mimetype": "text/x-python",
   "name": "python",
   "nbconvert_exporter": "python",
   "pygments_lexer": "ipython3",
   "version": "3.8.12"
  },
  "toc": {
   "base_numbering": 1,
   "nav_menu": {},
   "number_sections": true,
   "sideBar": true,
   "skip_h1_title": false,
   "title_cell": "Table of Contents",
   "title_sidebar": "Contents",
   "toc_cell": false,
   "toc_position": {},
   "toc_section_display": true,
   "toc_window_display": false
  },
  "varInspector": {
   "cols": {
    "lenName": 16,
    "lenType": 16,
    "lenVar": 40
   },
   "kernels_config": {
    "python": {
     "delete_cmd_postfix": "",
     "delete_cmd_prefix": "del ",
     "library": "var_list.py",
     "varRefreshCmd": "print(var_dic_list())"
    },
    "r": {
     "delete_cmd_postfix": ") ",
     "delete_cmd_prefix": "rm(",
     "library": "var_list.r",
     "varRefreshCmd": "cat(var_dic_list()) "
    }
   },
   "types_to_exclude": [
    "module",
    "function",
    "builtin_function_or_method",
    "instance",
    "_Feature"
   ],
   "window_display": false
  }
 },
 "nbformat": 4,
 "nbformat_minor": 1
}
