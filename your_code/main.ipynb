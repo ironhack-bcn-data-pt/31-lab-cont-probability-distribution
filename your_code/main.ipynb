{
 "cells": [
  {
   "cell_type": "markdown",
   "metadata": {},
   "source": [
    "# Before your start:\n",
    "\n",
    "    Read the README.md file\n",
    "    Comment as much as you can and use the resources (README.md file)\n",
    "    Happy learning!"
   ]
  },
  {
   "cell_type": "markdown",
   "metadata": {},
   "source": [
    "In this exercise, we  will generate random numbers from the continuous disributions we learned in the lesson. There are two ways to generate random numbers:\n",
    "\n",
    "1. Using the numpy library \n",
    "1. using the Scipy library \n",
    "\n",
    "Use either or both of the lbraries in this exercise."
   ]
  },
  {
   "cell_type": "markdown",
   "metadata": {},
   "source": [
    "## Uniform Distribution\n",
    "\n",
    "To generate uniform random numbers between any two given values using scipy, we can either use the following code or the code that we have\n",
    "discussed in class:"
   ]
  },
  {
   "cell_type": "code",
   "execution_count": 4,
   "metadata": {
    "ExecuteTime": {
     "end_time": "2019-08-02T06:07:54.802557Z",
     "start_time": "2019-08-02T06:07:54.330877Z"
    }
   },
   "outputs": [
    {
     "name": "stdout",
     "output_type": "stream",
     "text": [
      "[2.47812981 2.61007896 2.46083763 2.61318679 2.55702016 2.56461562\n",
      " 2.20855106 2.00119648 2.44168993 2.83345321]\n"
     ]
    }
   ],
   "source": [
    "from scipy.stats import uniform\n",
    "x = uniform.rvs(size=10) #count\n",
    "a = 2 #bottom\n",
    "b = 3 #ceiling\n",
    "randoms  = a + (b-a)*x\n",
    "print(randoms)"
   ]
  },
  {
   "cell_type": "markdown",
   "metadata": {},
   "source": [
    "**Your task:**\n",
    "\n",
    "1. Based on the code above, write a function that generates uniformly distributed random numbers. There are several requirements for your function:\n",
    "    * It should accept 3 parameters: \n",
    "        * `bottom` - the lower boundary of the generated numbers\n",
    "        * `ceiling` - the upper boundary of the generated numbers\n",
    "        * `count` - how many numbers to generate\n",
    "    * It should return an array of uniformly distributed random numbers\n",
    "\n",
    "1. Call your function with 2 sets of params below:\n",
    "    * bottom=10, ceiling=15, count=100\n",
    "    * bottom=10, ceiling=60, count=1,000\n",
    "\n",
    "1. Plot the uniform distributions generated above using histograms, where x axis is the value and y axis is the count. Let the histogram's number of bins be 10."
   ]
  },
  {
   "cell_type": "code",
   "execution_count": 15,
   "metadata": {
    "ExecuteTime": {
     "end_time": "2019-08-02T06:07:54.808337Z",
     "start_time": "2019-08-02T06:07:54.805916Z"
    }
   },
   "outputs": [],
   "source": [
    "def uniform_dist(botton, ceiling, count):\n",
    "    x=uniform.rvs(size=count)\n",
    "    return (botton+(ceiling-botton)*x)"
   ]
  },
  {
   "cell_type": "code",
   "execution_count": 16,
   "metadata": {},
   "outputs": [
    {
     "data": {
      "text/plain": [
       "array([11.20098328, 12.39320716, 11.30410195, 12.00129204, 11.97657036,\n",
       "       10.51023556, 13.73491079, 12.46890523, 13.33485313, 14.91040281,\n",
       "       13.68010812, 10.31906413, 11.90489886, 11.57335975, 12.42168867,\n",
       "       10.87566384, 14.36928845, 10.37224335, 11.54151913, 11.61844846,\n",
       "       14.77534426, 10.26014809, 12.86270106, 10.27750823, 12.96065788,\n",
       "       12.31981632, 12.12262938, 14.96720724, 10.49582261, 13.74888538,\n",
       "       13.02011013, 10.83192725, 11.73053138, 14.58309144, 13.48429679,\n",
       "       10.090719  , 12.1007848 , 12.20054144, 14.59574696, 10.88589177,\n",
       "       13.80582939, 14.62203924, 14.84598177, 14.17551892, 13.08437261,\n",
       "       14.22552974, 13.61256572, 13.60109432, 14.64135681, 14.7919306 ,\n",
       "       12.67451038, 11.27368181, 12.8441153 , 11.82111558, 13.33501641,\n",
       "       12.94788857, 10.33288462, 11.70586509, 11.82558425, 12.04493684,\n",
       "       12.19192714, 12.53417932, 10.49159251, 10.69566255, 13.6083507 ,\n",
       "       13.51484196, 12.07857082, 11.9649599 , 12.91806997, 11.77692802,\n",
       "       11.64778802, 12.64923923, 14.07406132, 12.5815816 , 14.82595758,\n",
       "       12.56543689, 12.28752516, 13.95780526, 10.15164165, 14.44027499,\n",
       "       14.50636121, 12.90877886, 13.58306937, 10.75447054, 11.01626142,\n",
       "       12.29618578, 11.86347261, 14.43729162, 10.84101999, 13.07428732,\n",
       "       10.60643505, 14.34940506, 11.09044299, 14.58530158, 11.99073945,\n",
       "       13.19342307, 11.81329   , 12.37204777, 13.14147376, 14.82550237])"
      ]
     },
     "execution_count": 16,
     "metadata": {},
     "output_type": "execute_result"
    }
   ],
   "source": [
    "uniform_dist(10,15,100)"
   ]
  },
  {
   "cell_type": "code",
   "execution_count": 17,
   "metadata": {},
   "outputs": [
    {
     "data": {
      "text/plain": [
       "array([56.4585469 , 52.64877902, 53.802949  , 50.887819  , 58.09023399,\n",
       "       38.90846287, 34.91721636, 55.53242352, 56.6291753 , 51.88873492,\n",
       "       29.82224192, 24.43365666, 12.19228829, 38.34520429, 18.92566521,\n",
       "       50.35790884, 48.0172623 , 59.61222447, 26.56366028, 50.94754656,\n",
       "       46.59166309, 48.10839176, 43.39014511, 37.21167632, 32.675962  ,\n",
       "       43.05563259, 35.75642629, 34.75029165, 21.76946089, 18.10962745,\n",
       "       25.45097313, 24.57212746, 16.39027543, 42.87357226, 51.1890325 ,\n",
       "       39.84628032, 24.09196574, 53.11850735, 38.4697708 , 37.50431515,\n",
       "       47.6140885 , 20.59145825, 22.73463216, 42.11633007, 48.1398737 ,\n",
       "       48.51952454, 15.47212558, 18.56131393, 57.93897423, 17.23955584,\n",
       "       12.28073779, 34.83794652, 45.49362348, 20.00799454, 41.89414211,\n",
       "       36.32737827, 28.87799218, 41.26342036, 26.12039039, 46.56801287,\n",
       "       47.31382561, 20.7234275 , 12.3290134 , 22.60411681, 22.67680982,\n",
       "       50.81194774, 17.81100095, 38.36467836, 56.78732178, 55.17690093,\n",
       "       43.61986188, 37.71791933, 17.98451899, 57.61275183, 24.1888107 ,\n",
       "       10.75062848, 15.40228645, 13.92631353, 34.46702223, 40.65012355,\n",
       "       37.77660204, 21.99577369, 55.7633076 , 40.11581305, 51.75476839,\n",
       "       44.03479824, 41.18084218, 18.35985132, 38.93969572, 39.50234157,\n",
       "       17.11969915, 43.11359608, 12.89721171, 19.23405208, 31.73722109,\n",
       "       57.38349715, 39.05656464, 46.51290148, 53.52415205, 40.72124236,\n",
       "       12.76871281, 19.97213234, 15.02409714, 47.73468115, 15.64133868,\n",
       "       45.03773103, 46.48259356, 53.40520019, 59.35738131, 34.45564934,\n",
       "       46.56627578, 59.00625693, 22.40669807, 24.26817307, 43.86747407,\n",
       "       41.98527617, 20.18401826, 36.3090255 , 34.91481097, 18.7673458 ,\n",
       "       21.69063096, 42.60679802, 26.54521047, 33.06508356, 50.2593303 ,\n",
       "       16.99426524, 34.35823789, 54.65736754, 30.69123727, 45.33100825,\n",
       "       56.88395317, 28.22857791, 33.18424137, 25.76205315, 42.49996178,\n",
       "       25.17424029, 12.01820342, 14.78448364, 30.63632601, 40.07646924,\n",
       "       27.97683134, 21.97540297, 11.56977959, 25.71709447, 51.03305767,\n",
       "       24.10292111, 29.09214664, 17.6847258 , 23.37331288, 46.58068519,\n",
       "       38.55750074, 56.0409609 , 12.96218473, 33.62908252, 15.66904198,\n",
       "       17.7704365 , 25.21897042, 12.64070593, 10.33846831, 25.32567633,\n",
       "       35.36918977, 20.56350463, 43.85303781, 53.1239929 , 15.75861389,\n",
       "       58.32362988, 33.94757592, 21.18200394, 39.56933657, 57.890273  ,\n",
       "       56.55715855, 42.57844627, 40.31114278, 28.5501793 , 58.92900615,\n",
       "       23.64042283, 14.34142846, 38.70606859, 36.79889643, 37.50175419,\n",
       "       36.77818841, 10.1812111 , 55.33694274, 16.35380278, 21.08870551,\n",
       "       36.39356838, 52.61572967, 36.00783104, 33.78842119, 30.33621927,\n",
       "       50.29371028, 31.88873387, 23.37373814, 23.73973973, 26.0658953 ,\n",
       "       58.39042982, 49.25198824, 48.49491847, 43.45208713, 42.36713737,\n",
       "       50.5078197 , 11.78481505, 29.99834716, 11.64891471, 21.86642366,\n",
       "       14.73434739, 10.75856052, 59.61335575, 10.46863087, 41.83684363,\n",
       "       44.92918161, 27.50286486, 37.04076091, 21.75864623, 48.03951211,\n",
       "       25.94869442, 10.61616851, 38.42583716, 20.36541457, 45.94069358,\n",
       "       19.77476951, 49.58552386, 15.24846089, 54.83451067, 17.34203936,\n",
       "       23.93459079, 27.22609313, 34.47729711, 21.70006044, 45.26235462,\n",
       "       32.37026971, 17.4216385 , 33.06165155, 47.21363225, 33.15641731,\n",
       "       59.17582688, 15.60723608, 21.10471977, 17.16013472, 20.94562675,\n",
       "       16.72660983, 25.52907622, 22.97563196, 55.43833181, 44.76447735,\n",
       "       50.6457478 , 32.43186756, 19.98725316, 57.20742836, 15.08994131,\n",
       "       16.66908259, 12.01109168, 52.7569765 , 26.56937211, 13.48320049,\n",
       "       32.64038521, 49.45504005, 55.80625461, 58.08145838, 29.60118884,\n",
       "       39.17153206, 32.60054154, 23.04479267, 42.30201391, 46.45915133,\n",
       "       42.36824613, 24.23800068, 19.60337251, 44.69958782, 43.2193532 ,\n",
       "       26.13810213, 16.72421992, 59.23224236, 18.36276067, 28.02061626,\n",
       "       50.03555992, 32.05440985, 54.97685374, 17.58816676, 57.98488317,\n",
       "       36.33899126, 21.8339016 , 10.71432366, 10.05276702, 54.80165497,\n",
       "       16.25691203, 40.70670056, 50.79151115, 32.59843468, 54.67713205,\n",
       "       18.22014109, 10.43986047, 16.47137961, 58.6458199 , 48.97033394,\n",
       "       47.17275771, 19.02851963, 29.28574972, 17.60566433, 54.88525635,\n",
       "       51.83880887, 52.53356837, 31.78852383, 24.43291427, 48.45592689,\n",
       "       39.49981099, 25.35081478, 58.53346132, 56.89980484, 49.1413345 ,\n",
       "       26.38988963, 38.49784124, 33.92174926, 22.52805137, 43.94267717,\n",
       "       34.79034544, 53.89532464, 51.59813492, 21.80533561, 44.84321163,\n",
       "       45.50721891, 19.976131  , 40.53951172, 32.57079084, 59.60996884,\n",
       "       36.31123271, 23.87309903, 31.1765948 , 52.51290836, 44.97296486,\n",
       "       23.82229412, 26.60536308, 25.93086799, 18.7181234 , 24.60803272,\n",
       "       25.09325064, 36.12086907, 46.78293197, 24.37577858, 24.19698676,\n",
       "       14.83927794, 22.67791718, 40.21505976, 52.31323939, 33.52085426,\n",
       "       47.55467162, 25.44506202, 15.45403819, 32.94457871, 36.99472872,\n",
       "       29.1661422 , 47.21430982, 31.20155515, 15.85332153, 27.05594188,\n",
       "       28.78620784, 32.04071897, 39.37280086, 45.79847603, 52.81404421,\n",
       "       43.06092003, 59.52481393, 59.91433374, 55.07459586, 18.52046014,\n",
       "       28.09709907, 43.2777872 , 24.304559  , 18.64704179, 27.32416546,\n",
       "       29.71995109, 34.82940099, 51.15332323, 50.42362392, 44.80763074,\n",
       "       29.71611612, 37.69846824, 23.87196625, 57.21712609, 43.74729965,\n",
       "       42.69202928, 11.52360212, 43.47441096, 16.85840921, 29.56370574,\n",
       "       11.08141759, 32.99837095, 52.66141466, 48.79887501, 41.96850134,\n",
       "       55.37499183, 35.88107108, 25.19284867, 31.48152221, 11.99457545,\n",
       "       49.87203441, 53.6358889 , 27.92701892, 30.16106146, 41.84615997,\n",
       "       12.30715709, 38.96586811, 51.26645032, 27.25776016, 48.07579386,\n",
       "       51.72114208, 47.65662791, 26.80404426, 46.38349109, 19.04822972,\n",
       "       30.44235302, 18.84327187, 27.33342023, 24.04045664, 57.38999336,\n",
       "       17.24164451, 18.36554313, 40.17377786, 29.41093028, 11.54617821,\n",
       "       28.68399999, 38.40316362, 53.62346949, 20.57516826, 59.18710458,\n",
       "       16.62459168, 46.0470399 , 37.45782085, 23.07182399, 42.26658315,\n",
       "       27.40553535, 30.70580888, 34.4136498 , 43.88768411, 14.03663714,\n",
       "       16.70653367, 30.00267322, 28.44380832, 46.64295457, 51.09282463,\n",
       "       24.22254102, 23.91503537, 17.58179459, 44.03122047, 36.23453258,\n",
       "       47.01278848, 24.12278402, 20.02501996, 37.08499231, 50.56394786,\n",
       "       42.69910189, 16.617466  , 12.29544807, 26.80854045, 29.70924268,\n",
       "       25.99746489, 57.31138786, 55.37671121, 38.97623545, 34.51205615,\n",
       "       55.14531387, 33.00588362, 12.39927269, 39.13435803, 17.21724225,\n",
       "       49.28737899, 19.8094442 , 22.45851749, 41.02826512, 21.34922741,\n",
       "       26.02080523, 10.66673394, 15.96195855, 29.31229176, 59.21881169,\n",
       "       36.2594987 , 55.32729908, 10.97277727, 35.86128776, 49.27987773,\n",
       "       24.41557109, 51.32359887, 43.34973314, 32.60141889, 40.64163648,\n",
       "       25.06421697, 10.52959501, 54.09396084, 16.81670022, 53.83789898,\n",
       "       58.21250799, 44.31882266, 30.74117812, 48.63129209, 45.68347026,\n",
       "       58.48833543, 52.63481522, 53.57375596, 32.54589786, 16.08782675,\n",
       "       30.41315298, 56.33795588, 30.3226806 , 23.32124647, 17.54477012,\n",
       "       20.74218982, 25.57890518, 27.1995125 , 55.13315766, 37.28367759,\n",
       "       38.42556187, 48.38029843, 33.09560437, 54.30903846, 23.72293706,\n",
       "       54.71000485, 16.47092542, 14.78277962, 41.42282836, 51.05091653,\n",
       "       44.58490227, 46.28878807, 25.54732787, 47.81323675, 26.9795941 ,\n",
       "       55.01464794, 55.35676513, 41.52210635, 28.63583811, 31.30197755,\n",
       "       17.95179411, 17.28961994, 17.14738138, 30.8360204 , 50.42420817,\n",
       "       14.21221144, 14.94092444, 33.51224082, 29.06465329, 39.66387711,\n",
       "       23.84970178, 26.86631654, 34.07452246, 53.01277678, 42.50941927,\n",
       "       41.10017823, 41.30050964, 29.02336384, 11.8201819 , 55.31976399,\n",
       "       54.40087738, 52.13768315, 18.07294205, 27.7140616 , 45.23384739,\n",
       "       35.91995846, 34.63471573, 30.64014056, 44.07122208, 24.27127925,\n",
       "       18.09858587, 25.08639213, 31.95885456, 31.13033588, 58.09245541,\n",
       "       54.25212196, 40.66058987, 29.44711331, 34.45210354, 56.96128409,\n",
       "       25.42007976, 36.63302472, 41.32134288, 37.38268812, 29.79078478,\n",
       "       55.51262944, 21.09874139, 25.09446729, 15.7701905 , 22.04721938,\n",
       "       25.34654813, 17.15129032, 40.71811168, 28.5214124 , 10.76656937,\n",
       "       40.77587236, 30.41900612, 18.19980656, 10.03986019, 47.50511379,\n",
       "       36.8077609 , 15.75872932, 28.12631129, 17.14950986, 15.77992238,\n",
       "       24.8307212 , 14.47330296, 58.89721254, 26.59090806, 12.23587951,\n",
       "       28.25335238, 55.80611195, 29.24373146, 22.40558495, 27.792637  ,\n",
       "       50.02163026, 55.44901009, 38.21929317, 40.39898841, 38.34312371,\n",
       "       24.91195756, 19.49064239, 53.69323264, 28.56848793, 50.53612553,\n",
       "       21.40188001, 11.55710591, 38.57792112, 15.47871351, 58.11355337,\n",
       "       51.51692623, 42.39351658, 56.76618827, 13.51894628, 46.8976849 ,\n",
       "       36.05582218, 50.08249735, 38.48839565, 29.14245563, 59.30402591,\n",
       "       14.78576486, 55.91294053, 11.19389424, 44.25566201, 41.23970984,\n",
       "       55.71121384, 10.84041911, 48.51147026, 24.34015059, 22.79329365,\n",
       "       36.9600074 , 56.50215828, 23.71209068, 18.26142779, 47.29938527,\n",
       "       34.52266894, 46.92784864, 15.88059435, 45.44552663, 10.00478651,\n",
       "       25.51339637, 32.06087286, 50.29491728, 21.36455853, 30.04628145,\n",
       "       15.28101218, 47.29795434, 35.8855684 , 45.29162822, 55.8463035 ,\n",
       "       12.45180344, 54.58307007, 21.94018405, 24.35077508, 37.8797686 ,\n",
       "       31.19058982, 18.88860184, 25.62727491, 23.15414381, 58.5913597 ,\n",
       "       12.66744391, 42.71527102, 41.27705897, 28.38551776, 29.99958948,\n",
       "       36.52056213, 54.05136489, 44.58370053, 24.83177499, 49.01418641,\n",
       "       20.99452448, 17.57510937, 47.78886603, 31.76684183, 44.715078  ,\n",
       "       40.81170413, 15.45538952, 55.19209768, 56.97448016, 11.9193965 ,\n",
       "       40.1673803 , 55.50380362, 14.33188912, 37.79620675, 44.66590317,\n",
       "       14.21807841, 11.43551078, 30.45897067, 24.73583881, 34.23004282,\n",
       "       25.85218781, 27.8222473 , 44.57024553, 47.77232275, 32.05285659,\n",
       "       26.08269935, 21.56259197, 19.30897682, 14.7079773 , 54.64511781,\n",
       "       40.38982912, 44.0600853 , 42.07187742, 58.39186557, 35.89681874,\n",
       "       39.27947958, 36.1798801 , 20.55753901, 54.2123956 , 57.39040593,\n",
       "       32.70138043, 57.42653548, 25.17271035, 14.81241993, 44.28595777,\n",
       "       49.39949166, 53.43310553, 18.72299353, 37.4537699 , 53.27923479,\n",
       "       45.63258455, 36.43193981, 45.4683208 , 18.49463912, 48.04421621,\n",
       "       22.53466909, 36.62611418, 22.75649714, 19.01630127, 59.62748647,\n",
       "       30.30750349, 24.06040135, 15.47894307, 20.49508452, 26.57063348,\n",
       "       10.54598028, 46.87260289, 12.49730684, 13.64050383, 48.20048107,\n",
       "       46.05635937, 17.64018476, 49.07839617, 16.55905464, 33.84355951,\n",
       "       22.29674148, 39.15111727, 14.63110803, 19.61908992, 30.3386054 ,\n",
       "       36.52649605, 35.45839607, 35.72809212, 26.39939328, 14.49534392,\n",
       "       34.03435803, 22.29821687, 55.06879736, 17.59161169, 50.24944682,\n",
       "       58.43636757, 32.40367553, 35.97498073, 31.72466875, 28.10027374,\n",
       "       48.79445386, 49.45033388, 26.1766963 , 11.73293233, 51.36779146,\n",
       "       47.44969184, 16.94197255, 45.83651103, 37.20143906, 58.05786464,\n",
       "       36.43698142, 47.36730728, 34.20865224, 13.82724309, 26.67087236,\n",
       "       33.29839768, 32.08318004, 38.60095085, 12.88605573, 14.88126156,\n",
       "       36.60785116, 25.57894854, 43.97143836, 17.47503123, 36.21634574,\n",
       "       25.59642797, 16.63574451, 20.73279941, 39.72897075, 34.78675134,\n",
       "       52.73985743, 41.59498743, 59.222174  , 12.30609426, 59.63724403,\n",
       "       22.10117733, 33.36078432, 26.02874835, 58.61724226, 57.45089238,\n",
       "       45.88410009, 43.34544349, 26.69322805, 46.11219074, 20.61253828,\n",
       "       39.33652589, 32.91514099, 14.15049423, 53.06297531, 20.33260455,\n",
       "       29.55685133, 54.8105904 , 35.11602484, 41.05829534, 22.39404986,\n",
       "       41.11732605, 28.59472992, 45.69749406, 52.10334715, 39.73737551,\n",
       "       43.62212877, 54.07494164, 50.20462448, 55.4633279 , 29.67954532,\n",
       "       20.36080313, 30.54689967, 37.43060614, 55.59966375, 50.71090348,\n",
       "       59.41519749, 27.86538959, 10.66616946, 37.00601838, 32.34896596,\n",
       "       59.58556742, 53.37819341, 22.69361224, 22.18378792, 32.90732476,\n",
       "       22.28975702, 40.85797886, 28.2254045 , 16.15850136, 17.84693198,\n",
       "       35.49597122, 50.63846344, 15.07227828, 17.73806634, 19.55764169,\n",
       "       34.05141321, 29.0807471 , 12.18517767, 53.84788568, 41.47786674,\n",
       "       12.18898425, 40.38152165, 16.49015773, 24.5871504 , 17.83213189,\n",
       "       29.71780138, 53.06054589, 10.19457885, 56.58096272, 44.97638272,\n",
       "       45.32898185, 10.69891223, 25.59208232, 32.32069044, 45.96324922,\n",
       "       57.74320184, 23.58699798, 28.83223962, 56.5923708 , 49.07380551,\n",
       "       24.52701673, 57.09228929, 33.49522185, 41.75582203, 44.56896838,\n",
       "       44.29919437, 12.48413915, 14.86847872, 30.45840646, 46.98779692,\n",
       "       45.28358149, 54.96120796, 21.2629151 , 50.45265897, 39.37216868,\n",
       "       27.52151806, 55.48204971, 51.51271206, 15.10811442, 24.87240001,\n",
       "       48.96815872, 38.6925442 , 10.32954185, 30.00058173, 23.63194174,\n",
       "       13.31119681, 23.17959424, 55.22524681, 31.31884527, 36.6409927 ,\n",
       "       39.11588366, 54.73682561, 55.82007482, 30.73799265, 48.86888109,\n",
       "       10.5036536 , 21.75228519, 40.34254276, 26.21501414, 57.08882352,\n",
       "       37.24900314, 18.03374504, 45.6839169 , 25.2801129 , 32.11611372,\n",
       "       21.33592506, 16.01053371, 39.29121233, 57.44545901, 48.85026177,\n",
       "       16.59653263, 54.88060288, 45.20020905, 16.46519761, 10.30752903,\n",
       "       19.85287419, 31.81344573, 55.57758184, 16.37015528, 31.31792493,\n",
       "       38.08950744, 11.95770594, 52.94898981, 44.1664625 , 20.0794524 ,\n",
       "       29.56645506, 35.31523142, 12.1485822 , 15.86941292, 27.53131695,\n",
       "       39.85907331, 47.81806536, 15.34469047, 39.78099741, 41.80965403,\n",
       "       49.6258805 , 53.18507175, 23.4864475 , 55.21057967, 28.01842371,\n",
       "       39.29443351, 37.52945427, 14.70467499, 45.67020013, 21.44007216,\n",
       "       23.27570671, 33.64301206, 14.05585675, 32.88105176, 31.0256023 ,\n",
       "       36.13589738, 23.27442558, 33.36618736, 23.51558608, 37.11675143,\n",
       "       59.33143297, 29.24495657, 48.87835032, 54.26026389, 35.63818372,\n",
       "       28.4124445 , 45.02459877, 56.02601722, 19.58255815, 42.39461199,\n",
       "       25.28847142, 37.9721248 , 40.04977134, 11.63527583, 53.60646463])"
      ]
     },
     "execution_count": 17,
     "metadata": {},
     "output_type": "execute_result"
    }
   ],
   "source": [
    "uniform_dist(10,60,1000)"
   ]
  },
  {
   "cell_type": "code",
   "execution_count": 7,
   "metadata": {},
   "outputs": [],
   "source": [
    "import seaborn as sns\n",
    "import matplotlib.pyplot as plt\n",
    "import numpy as np\n",
    "import pandas as pd"
   ]
  },
  {
   "cell_type": "code",
   "execution_count": 32,
   "metadata": {},
   "outputs": [
    {
     "data": {
      "text/plain": [
       "(array([10.,  7.,  9., 10.,  9.,  9., 16.,  7.,  8., 15.]),\n",
       " array([10.18192925, 10.65906987, 11.13621049, 11.61335111, 12.09049173,\n",
       "        12.56763235, 13.04477297, 13.52191359, 13.99905421, 14.47619483,\n",
       "        14.95333544]),\n",
       " <BarContainer object of 10 artists>)"
      ]
     },
     "execution_count": 32,
     "metadata": {},
     "output_type": "execute_result"
    },
    {
     "data": {
      "image/png": "[encoded data removed]",
      "text/plain": [
       "<Figure size 432x288 with 1 Axes>"
      ]
     },
     "metadata": {
      "needs_background": "light"
     },
     "output_type": "display_data"
    }
   ],
   "source": [
    "data=uniform_dist(10,15,100)\n",
    "plt.hist(data,bins=10)"
   ]
  },
  {
   "cell_type": "code",
   "execution_count": 33,
   "metadata": {},
   "outputs": [
    {
     "data": {
      "text/plain": [
       "(array([106.,  86.,  98.,  88., 108.,  84., 110., 107., 102., 111.]),\n",
       " array([10.00877029, 15.00297408, 19.99717787, 24.99138166, 29.98558545,\n",
       "        34.97978923, 39.97399302, 44.96819681, 49.9624006 , 54.95660439,\n",
       "        59.95080818]),\n",
       " <BarContainer object of 10 artists>)"
      ]
     },
     "execution_count": 33,
     "metadata": {},
     "output_type": "execute_result"
    },
    {
     "data": {
      "image/png": "[encoded data removed]",
      "text/plain": [
       "<Figure size 432x288 with 1 Axes>"
      ]
     },
     "metadata": {
      "needs_background": "light"
     },
     "output_type": "display_data"
    }
   ],
   "source": [
    "data2=uniform_dist(10,60,1000)\n",
    "plt.hist(data2,bins=10)"
   ]
  },
  {
   "cell_type": "markdown",
   "metadata": {},
   "source": [
    "How are the two distributions different?"
   ]
  },
  {
   "cell_type": "code",
   "execution_count": 3,
   "metadata": {
    "ExecuteTime": {
     "end_time": "2019-08-02T06:07:54.812745Z",
     "start_time": "2019-08-02T06:07:54.810660Z"
    }
   },
   "outputs": [],
   "source": [
    "# X-axis depending on ceiling, number of obs in each bin depending on n\n",
    "La primera tiene unos bins más estrechos que la segunda\n",
    "En la primera hay menos observacions que en la segunda en cada bin"
   ]
  },
  {
   "cell_type": "markdown",
   "metadata": {},
   "source": [
    "## Normal Distribution\n",
    "\n",
    "1. In the same way in the Uniform Distribution challenge, write a function that generates normally distributed random numbers.\n",
    "1. Generate 1,000 normally distributed numbers with the average of 10 and standard deviation of 1\n",
    "1. Generate 1,000 normally distributed numbers with the average of 10 and standard deviation of 50\n",
    "2. Plot the distributions of the data generated."
   ]
  },
  {
   "cell_type": "code",
   "execution_count": 46,
   "metadata": {},
   "outputs": [],
   "source": [
    "import scipy.stats as stats"
   ]
  },
  {
   "cell_type": "code",
   "execution_count": 3,
   "metadata": {},
   "outputs": [],
   "source": [
    "def norm_dist(average, sd, count):\n",
    "    data=stats.norm(average,sd).rvs(count)\n",
    "    return data"
   ]
  },
  {
   "cell_type": "code",
   "execution_count": 4,
   "metadata": {},
   "outputs": [],
   "source": [
    "norm1=norm_dist(10,1,1000)\n",
    "norm2=norm_dist(10,50,1000)"
   ]
  },
  {
   "cell_type": "code",
   "execution_count": 5,
   "metadata": {},
   "outputs": [
    {
     "data": {
      "text/plain": [
       "<seaborn.axisgrid.FacetGrid at 0x19454e01ee0>"
      ]
     },
     "execution_count": 5,
     "metadata": {},
     "output_type": "execute_result"
    },
    {
     "data": {
      "image/png": "[encoded data removed]",
      "text/plain": [
       "<Figure size 360x360 with 1 Axes>"
      ]
     },
     "metadata": {
      "needs_background": "light"
     },
     "output_type": "display_data"
    },
    {
     "data": {
      "image/png": "[encoded data removed]",
      "text/plain": [
       "<Figure size 360x360 with 1 Axes>"
      ]
     },
     "metadata": {
      "needs_background": "light"
     },
     "output_type": "display_data"
    }
   ],
   "source": [
    "sns.displot(norm1)\n",
    "sns.displot(norm2)"
   ]
  },
  {
   "cell_type": "markdown",
   "metadata": {},
   "source": [
    "How are the two distributions different?"
   ]
  },
  {
   "cell_type": "code",
   "execution_count": 42,
   "metadata": {
    "ExecuteTime": {
     "end_time": "2019-08-02T06:07:54.816439Z",
     "start_time": "2019-08-02T06:07:54.814409Z"
    }
   },
   "outputs": [
    {
     "data": {
      "text/plain": [
       "'La segunda distribucion es más ancha que la primera porque la desviación típica es mayor.\\nPor tanto hay mayor dispersión de los datos con respecto a la media en la segunda respecto a la primera.'"
      ]
     },
     "execution_count": 42,
     "metadata": {},
     "output_type": "execute_result"
    }
   ],
   "source": [
    "# different distrubiton around the mean (x-axis)\n",
    "'''La segunda distribucion es más ancha que la primera porque la desviación típica es mayor.\n",
    "Por tanto hay mayor dispersión de los datos con respecto a la media en la segunda respecto a la primera.'''"
   ]
  },
  {
   "cell_type": "markdown",
   "metadata": {},
   "source": [
    "## Normal Distribution of Real Data\n",
    "\n",
    "In this challenge we are going to take a look the real data. We will use vehicles.csv file for this exercise"
   ]
  },
  {
   "cell_type": "markdown",
   "metadata": {},
   "source": [
    "First import vehicles.csv.\n",
    "Then plot the histograms for the following variables:\n",
    "\n",
    "1. Fuel Barrels/Year"
   ]
  },
  {
   "cell_type": "code",
   "execution_count": 11,
   "metadata": {},
   "outputs": [
    {
     "data": {
      "text/html": [
       "<div>\n",
       "<style scoped>\n",
       "    .dataframe tbody tr th:only-of-type {\n",
       "        vertical-align: middle;\n",
       "    }\n",
       "\n",
       "    .dataframe tbody tr th {\n",
       "        vertical-align: top;\n",
       "    }\n",
       "\n",
       "    .dataframe thead th {\n",
       "        text-align: right;\n",
       "    }\n",
       "</style>\n",
       "<table border=\"1\" class=\"dataframe\">\n",
       "  <thead>\n",
       "    <tr style=\"text-align: right;\">\n",
       "      <th></th>\n",
       "      <th>Make</th>\n",
       "      <th>Model</th>\n",
       "      <th>Year</th>\n",
       "      <th>Engine Displacement</th>\n",
       "      <th>Cylinders</th>\n",
       "      <th>Transmission</th>\n",
       "      <th>Drivetrain</th>\n",
       "      <th>Vehicle Class</th>\n",
       "      <th>Fuel Type</th>\n",
       "      <th>Fuel Barrels/Year</th>\n",
       "      <th>City MPG</th>\n",
       "      <th>Highway MPG</th>\n",
       "      <th>Combined MPG</th>\n",
       "      <th>CO2 Emission Grams/Mile</th>\n",
       "      <th>Fuel Cost/Year</th>\n",
       "    </tr>\n",
       "  </thead>\n",
       "  <tbody>\n",
       "    <tr>\n",
       "      <th>0</th>\n",
       "      <td>AM General</td>\n",
       "      <td>DJ Po Vehicle 2WD</td>\n",
       "      <td>1984</td>\n",
       "      <td>2.5</td>\n",
       "      <td>4.0</td>\n",
       "      <td>Automatic 3-spd</td>\n",
       "      <td>2-Wheel Drive</td>\n",
       "      <td>Special Purpose Vehicle 2WD</td>\n",
       "      <td>Regular</td>\n",
       "      <td>19.388824</td>\n",
       "      <td>18</td>\n",
       "      <td>17</td>\n",
       "      <td>17</td>\n",
       "      <td>522.764706</td>\n",
       "      <td>1950</td>\n",
       "    </tr>\n",
       "    <tr>\n",
       "      <th>1</th>\n",
       "      <td>AM General</td>\n",
       "      <td>FJ8c Post Office</td>\n",
       "      <td>1984</td>\n",
       "      <td>4.2</td>\n",
       "      <td>6.0</td>\n",
       "      <td>Automatic 3-spd</td>\n",
       "      <td>2-Wheel Drive</td>\n",
       "      <td>Special Purpose Vehicle 2WD</td>\n",
       "      <td>Regular</td>\n",
       "      <td>25.354615</td>\n",
       "      <td>13</td>\n",
       "      <td>13</td>\n",
       "      <td>13</td>\n",
       "      <td>683.615385</td>\n",
       "      <td>2550</td>\n",
       "    </tr>\n",
       "    <tr>\n",
       "      <th>2</th>\n",
       "      <td>AM General</td>\n",
       "      <td>Post Office DJ5 2WD</td>\n",
       "      <td>1985</td>\n",
       "      <td>2.5</td>\n",
       "      <td>4.0</td>\n",
       "      <td>Automatic 3-spd</td>\n",
       "      <td>Rear-Wheel Drive</td>\n",
       "      <td>Special Purpose Vehicle 2WD</td>\n",
       "      <td>Regular</td>\n",
       "      <td>20.600625</td>\n",
       "      <td>16</td>\n",
       "      <td>17</td>\n",
       "      <td>16</td>\n",
       "      <td>555.437500</td>\n",
       "      <td>2100</td>\n",
       "    </tr>\n",
       "    <tr>\n",
       "      <th>3</th>\n",
       "      <td>AM General</td>\n",
       "      <td>Post Office DJ8 2WD</td>\n",
       "      <td>1985</td>\n",
       "      <td>4.2</td>\n",
       "      <td>6.0</td>\n",
       "      <td>Automatic 3-spd</td>\n",
       "      <td>Rear-Wheel Drive</td>\n",
       "      <td>Special Purpose Vehicle 2WD</td>\n",
       "      <td>Regular</td>\n",
       "      <td>25.354615</td>\n",
       "      <td>13</td>\n",
       "      <td>13</td>\n",
       "      <td>13</td>\n",
       "      <td>683.615385</td>\n",
       "      <td>2550</td>\n",
       "    </tr>\n",
       "    <tr>\n",
       "      <th>4</th>\n",
       "      <td>ASC Incorporated</td>\n",
       "      <td>GNX</td>\n",
       "      <td>1987</td>\n",
       "      <td>3.8</td>\n",
       "      <td>6.0</td>\n",
       "      <td>Automatic 4-spd</td>\n",
       "      <td>Rear-Wheel Drive</td>\n",
       "      <td>Midsize Cars</td>\n",
       "      <td>Premium</td>\n",
       "      <td>20.600625</td>\n",
       "      <td>14</td>\n",
       "      <td>21</td>\n",
       "      <td>16</td>\n",
       "      <td>555.437500</td>\n",
       "      <td>2550</td>\n",
       "    </tr>\n",
       "  </tbody>\n",
       "</table>\n",
       "</div>"
      ],
      "text/plain": [
       "               Make                Model  Year  Engine Displacement  \\\n",
       "0        AM General    DJ Po Vehicle 2WD  1984                  2.5   \n",
       "1        AM General     FJ8c Post Office  1984                  4.2   \n",
       "2        AM General  Post Office DJ5 2WD  1985                  2.5   \n",
       "3        AM General  Post Office DJ8 2WD  1985                  4.2   \n",
       "4  ASC Incorporated                  GNX  1987                  3.8   \n",
       "\n",
       "   Cylinders     Transmission        Drivetrain                Vehicle Class  \\\n",
       "0        4.0  Automatic 3-spd     2-Wheel Drive  Special Purpose Vehicle 2WD   \n",
       "1        6.0  Automatic 3-spd     2-Wheel Drive  Special Purpose Vehicle 2WD   \n",
       "2        4.0  Automatic 3-spd  Rear-Wheel Drive  Special Purpose Vehicle 2WD   \n",
       "3        6.0  Automatic 3-spd  Rear-Wheel Drive  Special Purpose Vehicle 2WD   \n",
       "4        6.0  Automatic 4-spd  Rear-Wheel Drive                 Midsize Cars   \n",
       "\n",
       "  Fuel Type  Fuel Barrels/Year  City MPG  Highway MPG  Combined MPG  \\\n",
       "0   Regular          19.388824        18           17            17   \n",
       "1   Regular          25.354615        13           13            13   \n",
       "2   Regular          20.600625        16           17            16   \n",
       "3   Regular          25.354615        13           13            13   \n",
       "4   Premium          20.600625        14           21            16   \n",
       "\n",
       "   CO2 Emission Grams/Mile  Fuel Cost/Year  \n",
       "0               522.764706            1950  \n",
       "1               683.615385            2550  \n",
       "2               555.437500            2100  \n",
       "3               683.615385            2550  \n",
       "4               555.437500            2550  "
      ]
     },
     "execution_count": 11,
     "metadata": {},
     "output_type": "execute_result"
    }
   ],
   "source": [
    "df_vehicles=pd.read_csv('vehicles.csv')\n",
    "df_vehicles.head()"
   ]
  },
  {
   "cell_type": "code",
   "execution_count": 10,
   "metadata": {
    "ExecuteTime": {
     "end_time": "2019-08-02T06:07:54.820851Z",
     "start_time": "2019-08-02T06:07:54.818504Z"
    }
   },
   "outputs": [
    {
     "data": {
      "text/plain": [
       "<seaborn.axisgrid.FacetGrid at 0x19456704ee0>"
      ]
     },
     "execution_count": 10,
     "metadata": {},
     "output_type": "execute_result"
    },
    {
     "data": {
      "image/png": "[encoded data removed]",
      "text/plain": [
       "<Figure size 360x360 with 1 Axes>"
      ]
     },
     "metadata": {
      "needs_background": "light"
     },
     "output_type": "display_data"
    }
   ],
   "source": [
    "# your code here\n",
    "sns.displot(df_vehicles['Fuel Barrels/Year'])"
   ]
  },
  {
   "cell_type": "markdown",
   "metadata": {},
   "source": [
    "2. CO2 Emission Grams/Mile "
   ]
  },
  {
   "cell_type": "code",
   "execution_count": 12,
   "metadata": {},
   "outputs": [
    {
     "data": {
      "text/plain": [
       "<seaborn.axisgrid.FacetGrid at 0x1945658c700>"
      ]
     },
     "execution_count": 12,
     "metadata": {},
     "output_type": "execute_result"
    },
    {
     "data": {
      "image/png": "[encoded data removed]",
      "text/plain": [
       "<Figure size 360x360 with 1 Axes>"
      ]
     },
     "metadata": {
      "needs_background": "light"
     },
     "output_type": "display_data"
    }
   ],
   "source": [
    "sns.displot(df_vehicles['CO2 Emission Grams/Mile'])"
   ]
  },
  {
   "cell_type": "markdown",
   "metadata": {},
   "source": [
    "3. Combined MPG"
   ]
  },
  {
   "cell_type": "code",
   "execution_count": 13,
   "metadata": {},
   "outputs": [
    {
     "data": {
      "text/plain": [
       "<seaborn.axisgrid.FacetGrid at 0x194565ee190>"
      ]
     },
     "execution_count": 13,
     "metadata": {},
     "output_type": "execute_result"
    },
    {
     "data": {
      "image/png": "[encoded data removed]",
      "text/plain": [
       "<Figure size 360x360 with 1 Axes>"
      ]
     },
     "metadata": {
      "needs_background": "light"
     },
     "output_type": "display_data"
    }
   ],
   "source": [
    "sns.displot(df_vehicles['Combined MPG'])"
   ]
  },
  {
   "cell_type": "markdown",
   "metadata": {},
   "source": [
    "Which one(s) of the variables are nearly normally distributed? How do you know?"
   ]
  },
  {
   "cell_type": "code",
   "execution_count": 56,
   "metadata": {
    "ExecuteTime": {
     "end_time": "2019-08-02T06:07:54.886563Z",
     "start_time": "2019-08-02T06:07:54.883451Z"
    }
   },
   "outputs": [
    {
     "data": {
      "image/png": "[encoded data removed]",
      "text/plain": [
       "<Figure size 432x288 with 1 Axes>"
      ]
     },
     "metadata": {
      "needs_background": "light"
     },
     "output_type": "display_data"
    }
   ],
   "source": [
    "# barrels & emission relatively normal, MPG left skew\n",
    "x1=df_vehicles['Fuel Barrels/Year']\n",
    "x2=df_vehicles['CO2 Emission Grams/Mile']\n",
    "x3=df_vehicles['Combined MPG']\n",
    "stats.skew(x1) #moderately skewed\n",
    "stats.skew(x2) #moderately skewed\n",
    "stats.skew(x3) #highlt skewed\n",
    "stats.kurtosis(x3)  #valor más cercano a 3\n",
    "_=stats.probplot(x2,dist='norm',plot=plt)\n",
    "#el df más cercano es el df_vehicles['CO2 Emission Grams/Mile'] porque sus observaciones se ajustan más a la línea del probplot"
   ]
  },
  {
   "cell_type": "markdown",
   "metadata": {},
   "source": [
    "## Exponential Distribution"
   ]
  },
  {
   "cell_type": "markdown",
   "metadata": {},
   "source": [
    "1. Using `numpy.random.exponential`, create a function that returns a list of numbers exponentially distributed with the mean of 10. \n",
    "\n",
    "1. Use the function to generate two number sequences with the size of 1 and 100.\n",
    "\n",
    "1. Plot the distributions as histograms with the nubmer of bins as 100."
   ]
  },
  {
   "cell_type": "code",
   "execution_count": 81,
   "metadata": {
    "ExecuteTime": {
     "end_time": "2019-08-02T06:07:55.006719Z",
     "start_time": "2019-08-02T06:07:55.004129Z"
    }
   },
   "outputs": [],
   "source": [
    "# your code here\n",
    "def expon_dist(size):\n",
    "    x=np.random.exponential(1/10,size)\n",
    "    return x"
   ]
  },
  {
   "cell_type": "code",
   "execution_count": 82,
   "metadata": {},
   "outputs": [],
   "source": [
    "seq1=expon_dist(1)\n",
    "seq2=expon_dist(100)"
   ]
  },
  {
   "cell_type": "code",
   "execution_count": 83,
   "metadata": {},
   "outputs": [
    {
     "data": {
      "image/png": "[encoded data removed]",
      "text/plain": [
       "<Figure size 432x288 with 1 Axes>"
      ]
     },
     "metadata": {
      "needs_background": "light"
     },
     "output_type": "display_data"
    }
   ],
   "source": [
    "count, bins, ignored = plt.hist(seq1, 100, density = True)\n",
    "plt.show()"
   ]
  },
  {
   "cell_type": "code",
   "execution_count": 84,
   "metadata": {},
   "outputs": [
    {
     "data": {
      "image/png": "[encoded data removed]",
      "text/plain": [
       "<Figure size 432x288 with 1 Axes>"
      ]
     },
     "metadata": {
      "needs_background": "light"
     },
     "output_type": "display_data"
    }
   ],
   "source": [
    "count, bins, ignored = plt.hist(seq2, 100, density = True)\n",
    "plt.show()"
   ]
  },
  {
   "cell_type": "markdown",
   "metadata": {},
   "source": [
    "How are the two distributions different?"
   ]
  },
  {
   "cell_type": "code",
   "execution_count": 8,
   "metadata": {
    "ExecuteTime": {
     "end_time": "2019-08-02T06:07:55.068339Z",
     "start_time": "2019-08-02T06:07:55.065924Z"
    }
   },
   "outputs": [],
   "source": [
    "no variation can be see when size =1"
   ]
  },
  {
   "cell_type": "markdown",
   "metadata": {},
   "source": [
    "## Exponential Distribution of Real Data\n",
    "\n",
    "Suppose that the amount of time one spends in a bank is exponentially distributed with mean as 10 minutes (i.e. λ = 1/10). What is the probability that a customer will spend less than fifteen minutes in the bank? \n",
    "\n",
    "Write a code in python to solve this problem"
   ]
  },
  {
   "cell_type": "code",
   "execution_count": 101,
   "metadata": {
    "ExecuteTime": {
     "end_time": "2019-08-02T06:07:55.137100Z",
     "start_time": "2019-08-02T06:07:55.134100Z"
    }
   },
   "outputs": [
    {
     "data": {
      "image/png": "[encoded data removed]",
      "text/plain": [
       "<Figure size 432x288 with 1 Axes>"
      ]
     },
     "metadata": {
      "needs_background": "light"
     },
     "output_type": "display_data"
    }
   ],
   "source": [
    "# Hint: This is same as saying P(x<15)\n",
    "x=np.arange(0, 30, 1)\n",
    "y=stats.expon.pdf(x,scale=10)\n",
    "plt.plot(x, y) \n",
    "plt.show()"
   ]
  },
  {
   "cell_type": "code",
   "execution_count": 108,
   "metadata": {},
   "outputs": [
    {
     "data": {
      "text/plain": [
       "'The probability that a customer will spend less than fifteen minutes in the bank is 77.68698398515703%'"
      ]
     },
     "execution_count": 108,
     "metadata": {},
     "output_type": "execute_result"
    }
   ],
   "source": [
    "f'The probability that a customer will spend less than fifteen minutes in the bank is {stats.expon.cdf(15,scale=10)*100}%'"
   ]
  },
  {
   "cell_type": "markdown",
   "metadata": {},
   "source": [
    "What is the probability that the customer will spend more than 15 minutes"
   ]
  },
  {
   "cell_type": "code",
   "execution_count": 109,
   "metadata": {},
   "outputs": [
    {
     "data": {
      "text/plain": [
       "'The probability that a customer will spend less than fifteen minutes in the bank is 22.313016014842983%'"
      ]
     },
     "execution_count": 109,
     "metadata": {},
     "output_type": "execute_result"
    }
   ],
   "source": [
    "f'The probability that a customer will spend more than fifteen minutes in the bank is {stats.expon.sf(15,scale=10)*100}%'"
   ]
  }
 ],
 "metadata": {
  "kernelspec": {
   "display_name": "Python 3",
   "language": "python",
   "name": "python3"
  },
  "language_info": {
   "codemirror_mode": {
    "name": "ipython",
    "version": 3
   },
   "file_extension": ".py",
   "mimetype": "text/x-python",
   "name": "python",
   "nbconvert_exporter": "python",
   "pygments_lexer": "ipython3",
   "version": "3.8.8"
  },
  "toc": {
   "base_numbering": 1,
   "nav_menu": {},
   "number_sections": true,
   "sideBar": true,
   "skip_h1_title": false,
   "title_cell": "Table of Contents",
   "title_sidebar": "Contents",
   "toc_cell": false,
   "toc_position": {},
   "toc_section_display": true,
   "toc_window_display": false
  },
  "varInspector": {
   "cols": {
    "lenName": 16,
    "lenType": 16,
    "lenVar": 40
   },
   "kernels_config": {
    "python": {
     "delete_cmd_postfix": "",
     "delete_cmd_prefix": "del ",
     "library": "var_list.py",
     "varRefreshCmd": "print(var_dic_list())"
    },
    "r": {
     "delete_cmd_postfix": ") ",
     "delete_cmd_prefix": "rm(",
     "library": "var_list.r",
     "varRefreshCmd": "cat(var_dic_list()) "
    }
   },
   "types_to_exclude": [
    "module",
    "function",
    "builtin_function_or_method",
    "instance",
    "_Feature"
   ],
   "window_display": false
  }
 },
 "nbformat": 4,
 "nbformat_minor": 2
}
